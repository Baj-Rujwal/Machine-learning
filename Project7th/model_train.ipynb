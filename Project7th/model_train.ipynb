{
 "cells": [
  {
   "cell_type": "code",
   "execution_count": 42,
   "metadata": {
    "scrolled": true
   },
   "outputs": [],
   "source": [
    "import pandas as pd\n",
    "import numpy as np\n",
    "from sklearn.svm import SVR\n",
    "from sklearn.model_selection import train_test_split\n",
    "from sklearn.metrics import accuracy_score\n",
    "\n",
    "sales_data=pd.read_csv(\"cleanedData.csv\")\n",
    "# X=sales_data['Genre']\n",
    "# y=np.array(sales_data['Average']).reshape(-1,1) #output\n",
    "y=sales_data['Average'] #output\n",
    "X=np.array(sales_data['Genre']).reshape(-1,1) #input\n",
    "\n",
    "X_train, X_test, y_train, y_test = train_test_split(X, y, test_size=0.2)"
   ]
  },
  {
   "cell_type": "code",
   "execution_count": 46,
   "metadata": {
    "scrolled": true
   },
   "outputs": [
    {
     "data": {
      "text/plain": [
       "array([0.12000375, 0.12000375, 0.13436556, ..., 0.12424289, 0.12200202,\n",
       "       0.11772454])"
      ]
     },
     "execution_count": 46,
     "metadata": {},
     "output_type": "execute_result"
    }
   ],
   "source": [
    "model=SVR()\n",
    "\n",
    "model.fit(X_train, y_train)\n",
    "model.predict(X_test)\n",
    "# prediction=model.predict(np.array([0]).reshape(-1,1))\n",
    "# accuracy_score(y_test, prediction)\n",
    "\n",
    "# model.score(X_test, y_test)\n",
    "# for x in range(0,12):\n",
    "#         print(model.predict(np.array([x]).reshape(1, 1)))"
   ]
  },
  {
   "cell_type": "code",
   "execution_count": null,
   "metadata": {},
   "outputs": [],
   "source": []
  }
 ],
 "metadata": {
  "kernelspec": {
   "display_name": "Python 3",
   "language": "python",
   "name": "python3"
  },
  "language_info": {
   "codemirror_mode": {
    "name": "ipython",
    "version": 3
   },
   "file_extension": ".py",
   "mimetype": "text/x-python",
   "name": "python",
   "nbconvert_exporter": "python",
   "pygments_lexer": "ipython3",
   "version": "3.7.4"
  }
 },
 "nbformat": 4,
 "nbformat_minor": 2
}
