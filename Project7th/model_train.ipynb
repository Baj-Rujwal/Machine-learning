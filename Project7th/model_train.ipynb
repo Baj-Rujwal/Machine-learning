{
 "cells": [
  {
   "cell_type": "code",
   "execution_count": 1,
   "metadata": {
    "scrolled": true
   },
   "outputs": [],
   "source": [
    "import pandas as pd\n",
    "import numpy as np\n",
    "import matplotlib.pyplot as plt\n",
    "from sklearn.svm import SVR\n",
    "# from sklearn.linear_model import LinearRegression\n",
    "from sklearn.model_selection import train_test_split\n",
    "\n",
    "sales_data=pd.read_csv(\"cleanedData.csv\")\n",
    "# X1=np.array(sales_data['Genre']).reshape(-1,1) #input for Decision tree\n",
    "# y1=sales_data['NA_Sales'] #output \n",
    "#y=np.array(sales_data['Average']).reshape(-1,1) #output\n",
    "\n",
    "y=sales_data['Average'] #output\n",
    "X=np.array(sales_data['Genre']).reshape(-1,1) #input\n",
    "\n",
    "X_train, X_test, y_train, y_test = train_test_split(X, y, test_size=0.2)\n",
    "# X_train, X_test, y1_train, y1_test = train_test_split(X, y1, test_size=0.2)"
   ]
  },
  {
   "cell_type": "code",
   "execution_count": 2,
   "metadata": {
    "scrolled": true
   },
   "outputs": [
    {
     "data": {
      "image/png": "[encoded data removed]",
      "text/plain": [
       "<Figure size 432x288 with 1 Axes>"
      ]
     },
     "metadata": {
      "needs_background": "light"
     },
     "output_type": "display_data"
    },
    {
     "data": {
      "text/plain": [
       "-0.16974999588683293"
      ]
     },
     "execution_count": 2,
     "metadata": {},
     "output_type": "execute_result"
    }
   ],
   "source": [
    "#SVR model with average prediction\n",
    "\n",
    "model=SVR()\n",
    "\n",
    "model.fit(X_train, y_train)\n",
    "prediction = model.predict(X_test)\n",
    "\n",
    "#plotting\n",
    "plt.scatter(X_test, y_test, color='red')\n",
    "plt.plot(X_test, prediction, color='blue')\n",
    "plt.xlabel('Genre')\n",
    "plt.ylabel('Sales')\n",
    "plt.show()\n",
    "\n",
    "model.score(X_test, y_test)\n",
    "\n",
    "# for x in range(0,12):\n",
    "#         print(model.predict(np.array([x]).reshape(1, 1)))"
   ]
  },
  {
   "cell_type": "code",
   "execution_count": 3,
   "metadata": {},
   "outputs": [],
   "source": [
    "#linear regression\n",
    "# linearmodel = LinearRegression()\n",
    "# linearmodel.fit(X_train, y_train)\n",
    "# linearmodel.predict(X_test)\n",
    "\n",
    "#plotting\n",
    "# plt.scatter(X_test, y_test, color='red')\n",
    "# plt.plot(X_test, prediction, color='blue')\n",
    "# plt.xlabel('Genre')\n",
    "# plt.ylabel('Sales')\n",
    "# plt.show()\n"
   ]
  },
  {
   "cell_type": "code",
   "execution_count": null,
   "metadata": {},
   "outputs": [],
   "source": []
  }
 ],
 "metadata": {
  "kernelspec": {
   "display_name": "Python 3",
   "language": "python",
   "name": "python3"
  },
  "language_info": {
   "codemirror_mode": {
    "name": "ipython",
    "version": 3
   },
   "file_extension": ".py",
   "mimetype": "text/x-python",
   "name": "python",
   "nbconvert_exporter": "python",
   "pygments_lexer": "ipython3",
   "version": "3.7.4"
  }
 },
 "nbformat": 4,
 "nbformat_minor": 2
}
