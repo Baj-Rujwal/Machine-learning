{
 "cells": [
  {
   "cell_type": "code",
   "execution_count": 3,
   "metadata": {},
   "outputs": [
    {
     "data": {
      "text/html": [
       "<div>\n",
       "<style scoped>\n",
       "    .dataframe tbody tr th:only-of-type {\n",
       "        vertical-align: middle;\n",
       "    }\n",
       "\n",
       "    .dataframe tbody tr th {\n",
       "        vertical-align: top;\n",
       "    }\n",
       "\n",
       "    .dataframe thead th {\n",
       "        text-align: right;\n",
       "    }\n",
       "</style>\n",
       "<table border=\"1\" class=\"dataframe\">\n",
       "  <thead>\n",
       "    <tr style=\"text-align: right;\">\n",
       "      <th></th>\n",
       "      <th>Year_of_Release</th>\n",
       "      <th>Genre</th>\n",
       "      <th>NA_Sales</th>\n",
       "      <th>EU_Sales</th>\n",
       "      <th>JP_Sales</th>\n",
       "      <th>Other_Sales</th>\n",
       "      <th>Global_Sales</th>\n",
       "      <th>Average</th>\n",
       "      <th>2600</th>\n",
       "      <th>3DS</th>\n",
       "      <th>...</th>\n",
       "      <th>PS4</th>\n",
       "      <th>PSP</th>\n",
       "      <th>PSV</th>\n",
       "      <th>SAT</th>\n",
       "      <th>SNES</th>\n",
       "      <th>Wii</th>\n",
       "      <th>WiiU</th>\n",
       "      <th>X</th>\n",
       "      <th>X360</th>\n",
       "      <th>XOne</th>\n",
       "    </tr>\n",
       "  </thead>\n",
       "  <tbody>\n",
       "    <tr>\n",
       "      <th>0</th>\n",
       "      <td>2013</td>\n",
       "      <td>0</td>\n",
       "      <td>7.02</td>\n",
       "      <td>9.14</td>\n",
       "      <td>0.98</td>\n",
       "      <td>3.97</td>\n",
       "      <td>21.12</td>\n",
       "      <td>8.446</td>\n",
       "      <td>0</td>\n",
       "      <td>0</td>\n",
       "      <td>...</td>\n",
       "      <td>0</td>\n",
       "      <td>0</td>\n",
       "      <td>0</td>\n",
       "      <td>0</td>\n",
       "      <td>0</td>\n",
       "      <td>0</td>\n",
       "      <td>0</td>\n",
       "      <td>0</td>\n",
       "      <td>0</td>\n",
       "      <td>0</td>\n",
       "    </tr>\n",
       "    <tr>\n",
       "      <th>1</th>\n",
       "      <td>2004</td>\n",
       "      <td>0</td>\n",
       "      <td>9.43</td>\n",
       "      <td>0.40</td>\n",
       "      <td>0.41</td>\n",
       "      <td>10.57</td>\n",
       "      <td>20.81</td>\n",
       "      <td>8.324</td>\n",
       "      <td>0</td>\n",
       "      <td>0</td>\n",
       "      <td>...</td>\n",
       "      <td>0</td>\n",
       "      <td>0</td>\n",
       "      <td>0</td>\n",
       "      <td>0</td>\n",
       "      <td>0</td>\n",
       "      <td>0</td>\n",
       "      <td>0</td>\n",
       "      <td>0</td>\n",
       "      <td>0</td>\n",
       "      <td>0</td>\n",
       "    </tr>\n",
       "    <tr>\n",
       "      <th>2</th>\n",
       "      <td>2013</td>\n",
       "      <td>0</td>\n",
       "      <td>9.66</td>\n",
       "      <td>5.17</td>\n",
       "      <td>0.06</td>\n",
       "      <td>1.41</td>\n",
       "      <td>16.30</td>\n",
       "      <td>6.520</td>\n",
       "      <td>0</td>\n",
       "      <td>0</td>\n",
       "      <td>...</td>\n",
       "      <td>0</td>\n",
       "      <td>0</td>\n",
       "      <td>0</td>\n",
       "      <td>0</td>\n",
       "      <td>0</td>\n",
       "      <td>0</td>\n",
       "      <td>0</td>\n",
       "      <td>0</td>\n",
       "      <td>1</td>\n",
       "      <td>0</td>\n",
       "    </tr>\n",
       "    <tr>\n",
       "      <th>3</th>\n",
       "      <td>2002</td>\n",
       "      <td>0</td>\n",
       "      <td>8.41</td>\n",
       "      <td>5.49</td>\n",
       "      <td>0.47</td>\n",
       "      <td>1.78</td>\n",
       "      <td>16.15</td>\n",
       "      <td>6.460</td>\n",
       "      <td>0</td>\n",
       "      <td>0</td>\n",
       "      <td>...</td>\n",
       "      <td>0</td>\n",
       "      <td>0</td>\n",
       "      <td>0</td>\n",
       "      <td>0</td>\n",
       "      <td>0</td>\n",
       "      <td>0</td>\n",
       "      <td>0</td>\n",
       "      <td>0</td>\n",
       "      <td>0</td>\n",
       "      <td>0</td>\n",
       "    </tr>\n",
       "    <tr>\n",
       "      <th>4</th>\n",
       "      <td>2014</td>\n",
       "      <td>0</td>\n",
       "      <td>4.12</td>\n",
       "      <td>6.77</td>\n",
       "      <td>0.39</td>\n",
       "      <td>2.08</td>\n",
       "      <td>13.36</td>\n",
       "      <td>5.344</td>\n",
       "      <td>0</td>\n",
       "      <td>0</td>\n",
       "      <td>...</td>\n",
       "      <td>1</td>\n",
       "      <td>0</td>\n",
       "      <td>0</td>\n",
       "      <td>0</td>\n",
       "      <td>0</td>\n",
       "      <td>0</td>\n",
       "      <td>0</td>\n",
       "      <td>0</td>\n",
       "      <td>0</td>\n",
       "      <td>0</td>\n",
       "    </tr>\n",
       "  </tbody>\n",
       "</table>\n",
       "<p>5 rows × 32 columns</p>\n",
       "</div>"
      ],
      "text/plain": [
       "   Year_of_Release  Genre  NA_Sales  EU_Sales  JP_Sales  Other_Sales  \\\n",
       "0             2013      0      7.02      9.14      0.98         3.97   \n",
       "1             2004      0      9.43      0.40      0.41        10.57   \n",
       "2             2013      0      9.66      5.17      0.06         1.41   \n",
       "3             2002      0      8.41      5.49      0.47         1.78   \n",
       "4             2014      0      4.12      6.77      0.39         2.08   \n",
       "\n",
       "   Global_Sales  Average  2600  3DS  ...  PS4  PSP  PSV  SAT  SNES  Wii  WiiU  \\\n",
       "0         21.12    8.446     0    0  ...    0    0    0    0     0    0     0   \n",
       "1         20.81    8.324     0    0  ...    0    0    0    0     0    0     0   \n",
       "2         16.30    6.520     0    0  ...    0    0    0    0     0    0     0   \n",
       "3         16.15    6.460     0    0  ...    0    0    0    0     0    0     0   \n",
       "4         13.36    5.344     0    0  ...    1    0    0    0     0    0     0   \n",
       "\n",
       "   X  X360  XOne  \n",
       "0  0     0     0  \n",
       "1  0     0     0  \n",
       "2  0     1     0  \n",
       "3  0     0     0  \n",
       "4  0     0     0  \n",
       "\n",
       "[5 rows x 32 columns]"
      ]
     },
     "execution_count": 3,
     "metadata": {},
     "output_type": "execute_result"
    }
   ],
   "source": [
    "import pandas as pd\n",
    "import numpy as np\n",
    "import matplotlib.pyplot as plt\n",
    "\n",
    "action = pd.read_csv(\"Data/CleanedDataAction.csv\")\n",
    "action.head()"
   ]
  },
  {
   "cell_type": "code",
   "execution_count": 4,
   "metadata": {},
   "outputs": [
    {
     "data": {
      "text/html": [
       "<div>\n",
       "<style scoped>\n",
       "    .dataframe tbody tr th:only-of-type {\n",
       "        vertical-align: middle;\n",
       "    }\n",
       "\n",
       "    .dataframe tbody tr th {\n",
       "        vertical-align: top;\n",
       "    }\n",
       "\n",
       "    .dataframe thead th {\n",
       "        text-align: right;\n",
       "    }\n",
       "</style>\n",
       "<table border=\"1\" class=\"dataframe\">\n",
       "  <thead>\n",
       "    <tr style=\"text-align: right;\">\n",
       "      <th></th>\n",
       "      <th>Year</th>\n",
       "      <th>Average Sales</th>\n",
       "      <th>Global_Sales</th>\n",
       "    </tr>\n",
       "  </thead>\n",
       "  <tbody>\n",
       "    <tr>\n",
       "      <th>0</th>\n",
       "      <td>1997</td>\n",
       "      <td>1.726000</td>\n",
       "      <td>4.313333</td>\n",
       "    </tr>\n",
       "    <tr>\n",
       "      <th>1</th>\n",
       "      <td>1998</td>\n",
       "      <td>2.287000</td>\n",
       "      <td>5.717500</td>\n",
       "    </tr>\n",
       "    <tr>\n",
       "      <th>2</th>\n",
       "      <td>1999</td>\n",
       "      <td>1.997000</td>\n",
       "      <td>4.995000</td>\n",
       "    </tr>\n",
       "    <tr>\n",
       "      <th>3</th>\n",
       "      <td>2000</td>\n",
       "      <td>1.380800</td>\n",
       "      <td>3.452000</td>\n",
       "    </tr>\n",
       "    <tr>\n",
       "      <th>4</th>\n",
       "      <td>2001</td>\n",
       "      <td>2.145000</td>\n",
       "      <td>5.361667</td>\n",
       "    </tr>\n",
       "    <tr>\n",
       "      <th>5</th>\n",
       "      <td>2002</td>\n",
       "      <td>1.988000</td>\n",
       "      <td>4.970000</td>\n",
       "    </tr>\n",
       "    <tr>\n",
       "      <th>6</th>\n",
       "      <td>2003</td>\n",
       "      <td>1.216800</td>\n",
       "      <td>3.040000</td>\n",
       "    </tr>\n",
       "    <tr>\n",
       "      <th>7</th>\n",
       "      <td>2004</td>\n",
       "      <td>3.792000</td>\n",
       "      <td>9.483333</td>\n",
       "    </tr>\n",
       "    <tr>\n",
       "      <th>8</th>\n",
       "      <td>2005</td>\n",
       "      <td>1.808800</td>\n",
       "      <td>4.522000</td>\n",
       "    </tr>\n",
       "    <tr>\n",
       "      <th>9</th>\n",
       "      <td>2006</td>\n",
       "      <td>1.685600</td>\n",
       "      <td>4.214000</td>\n",
       "    </tr>\n",
       "    <tr>\n",
       "      <th>10</th>\n",
       "      <td>2007</td>\n",
       "      <td>1.804333</td>\n",
       "      <td>4.510000</td>\n",
       "    </tr>\n",
       "    <tr>\n",
       "      <th>11</th>\n",
       "      <td>2008</td>\n",
       "      <td>1.921091</td>\n",
       "      <td>4.802727</td>\n",
       "    </tr>\n",
       "    <tr>\n",
       "      <th>12</th>\n",
       "      <td>2009</td>\n",
       "      <td>1.899167</td>\n",
       "      <td>4.749167</td>\n",
       "    </tr>\n",
       "    <tr>\n",
       "      <th>13</th>\n",
       "      <td>2010</td>\n",
       "      <td>1.918400</td>\n",
       "      <td>4.796000</td>\n",
       "    </tr>\n",
       "    <tr>\n",
       "      <th>14</th>\n",
       "      <td>2011</td>\n",
       "      <td>1.749556</td>\n",
       "      <td>4.375556</td>\n",
       "    </tr>\n",
       "  </tbody>\n",
       "</table>\n",
       "</div>"
      ],
      "text/plain": [
       "    Year  Average Sales  Global_Sales\n",
       "0   1997       1.726000      4.313333\n",
       "1   1998       2.287000      5.717500\n",
       "2   1999       1.997000      4.995000\n",
       "3   2000       1.380800      3.452000\n",
       "4   2001       2.145000      5.361667\n",
       "5   2002       1.988000      4.970000\n",
       "6   2003       1.216800      3.040000\n",
       "7   2004       3.792000      9.483333\n",
       "8   2005       1.808800      4.522000\n",
       "9   2006       1.685600      4.214000\n",
       "10  2007       1.804333      4.510000\n",
       "11  2008       1.921091      4.802727\n",
       "12  2009       1.899167      4.749167\n",
       "13  2010       1.918400      4.796000\n",
       "14  2011       1.749556      4.375556"
      ]
     },
     "execution_count": 4,
     "metadata": {},
     "output_type": "execute_result"
    }
   ],
   "source": [
    "#calculate average sales for action genre from 1997 to 2011\n",
    "data = {'Year': [],\n",
    "        'Average Sales': [],\n",
    "        'Global_Sales': []} #changed here\n",
    "sales = pd.DataFrame(data)\n",
    "year = 1997\n",
    "for i in range(15):\n",
    "    x = action[action['Year_of_Release'] == year]\n",
    "    avg = x['Average'].mean()\n",
    "    globalsales = x['Global_Sales'].mean()\n",
    "    \n",
    "    data = {'Year': year,\n",
    "            'Average Sales': avg,\n",
    "            'Global_Sales': globalsales}\n",
    "    sales = sales.append(data, ignore_index=True)\n",
    "    year += 1\n",
    "\n",
    "sales['Year'] = sales['Year'].astype(int) \n",
    "sales"
   ]
  },
  {
   "cell_type": "code",
   "execution_count": 5,
   "metadata": {},
   "outputs": [
    {
     "data": {
      "image/png": "[encoded data removed]",
      "text/plain": [
       "<Figure size 432x288 with 1 Axes>"
      ]
     },
     "metadata": {
      "needs_background": "light"
     },
     "output_type": "display_data"
    }
   ],
   "source": [
    "#sales plot\n",
    "plt.plot(sales['Year'], sales['Average Sales'], sales['Year'], sales['Global_Sales'])\n",
    "plt.title('Action')\n",
    "plt.xlabel('Year')\n",
    "plt.ylabel('Sales(in Millions)')\n",
    "plt.show()"
   ]
  },
  {
   "cell_type": "code",
   "execution_count": 6,
   "metadata": {},
   "outputs": [],
   "source": [
    "#for SVR algorithm\n",
    "# scikit-learn\n",
    "from sklearn.svm import SVR\n",
    "from sklearn.model_selection import train_test_split\n",
    "\n",
    "y = action['Average'] #output\n",
    "ygl = action['Global_Sales']\n",
    "X = np.array(action['Year_of_Release']).reshape(-1,1) #input\n",
    "\n",
    "X_train, X_test, y_train, y_test = train_test_split(X, y, test_size=0.2)\n",
    "Xgl_train, Xgl_test, ygl_train, ygl_test = train_test_split(X, ygl, test_size=0.2) #changed here"
   ]
  },
  {
   "cell_type": "code",
   "execution_count": 19,
   "metadata": {},
   "outputs": [
    {
     "data": {
      "image/png": "[encoded data removed]",
      "text/plain": [
       "<Figure size 432x288 with 1 Axes>"
      ]
     },
     "metadata": {
      "needs_background": "light"
     },
     "output_type": "display_data"
    }
   ],
   "source": [
    "model = SVR(kernel='rbf', epsilon=0.25, gamma='scale')\n",
    "modelgl = SVR(kernel='rbf', epsilon=0.85, gamma='scale')\n",
    "\n",
    "model.fit(X_train, y_train)\n",
    "modelgl.fit(Xgl_train, ygl_train)\n",
    "prediction = model.predict(X_test)\n",
    "predictiongl = modelgl.predict(Xgl_test)\n",
    "# model.score(X_test, y_test)\n",
    "\n",
    "# prediction\n",
    "\n",
    "X_grid = np.arange(min(X_train), max(X_train), 0.01)\n",
    "X_grid = X_grid.reshape((len(X_grid), 1))\n",
    "\n",
    "\n",
    "# plt.scatter(X_test, prediction)\n",
    "# plt.scatter(X_test, y_test)\n",
    "plt.ylim(top=3)\n",
    "plt.title('Model Fit')\n",
    "plt.xlabel('Years')\n",
    "plt.ylabel('Sales')\n",
    "plt.scatter(X_train, y_train, color='red')\n",
    "plt.plot(X_grid, model.predict(X_grid), color='green')\n",
    "plt.scatter(X_test, prediction, color='blue', marker='x')\n",
    "plt.show()  #why you do dis???"
   ]
  },
  {
   "cell_type": "code",
   "execution_count": 89,
   "metadata": {},
   "outputs": [
    {
     "data": {
      "image/png": "[encoded data removed]",
      "text/plain": [
       "<Figure size 432x288 with 1 Axes>"
      ]
     },
     "metadata": {
      "needs_background": "light"
     },
     "output_type": "display_data"
    }
   ],
   "source": [
    "Xgl_grid = np.arange(min(Xgl_train), max(Xgl_train), 0.01) #change 0.01 to 1 and plot to scatter at 1 to see changes\n",
    "Xgl_grid = Xgl_grid.reshape((len(Xgl_grid), 1)) \n",
    "\n",
    "plt.ylim(top=8)\n",
    "plt.title('Model Fit for Global')\n",
    "plt.xlabel('Years')\n",
    "plt.ylabel('Sales')\n",
    "plt.scatter(Xgl_train, ygl_train, color='red')\n",
    "plt.plot(Xgl_grid, modelgl.predict(Xgl_grid), color='green') #1\n",
    "plt.scatter(Xgl_test, predictiongl, color='blue')\n",
    "plt.show()  #why you do dis???"
   ]
  },
  {
   "cell_type": "code",
   "execution_count": 26,
   "metadata": {
    "scrolled": true
   },
   "outputs": [
    {
     "data": {
      "image/png": "[encoded data removed]",
      "text/plain": [
       "<Figure size 432x288 with 1 Axes>"
      ]
     },
     "metadata": {
      "needs_background": "light"
     },
     "output_type": "display_data"
    }
   ],
   "source": [
    "year = [2016, 2017, 2018, 2019, 2020, 2021, 2022, 2023, 2024, 2025, 2026, 2027, 2028, 2029, 2030]\n",
    "data = {'Prediction_Year': [],\n",
    "        'Predicted_Sales': [],\n",
    "        'Global': []}\n",
    "future_sales = pd.DataFrame(data)\n",
    "future_sales['Prediction_Year'] = future_sales['Prediction_Year'].astype(int)\n",
    "\n",
    "for i in range(15):\n",
    "    x = model.predict([[year[i]]])\n",
    "    xgl = modelgl.predict([[year[i]]])\n",
    "    data = {'Prediction_Year': year[i],\n",
    "            'Predicted_Sales': x,\n",
    "            'Global': xgl}\n",
    "    future_sales = future_sales.append(data, ignore_index=True)\n",
    "\n",
    "plt.plot(future_sales['Prediction_Year'], future_sales['Predicted_Sales'])\n",
    "plt.plot(future_sales['Prediction_Year'], future_sales['Global'], ls = '--')\n",
    "plt.xlabel('Year')\n",
    "plt.ylabel('Sales(in Millions)')\n",
    "plt.show()\n",
    "\n",
    "#better fits data but constant prediction.. why??"
   ]
  },
  {
   "cell_type": "code",
   "execution_count": 91,
   "metadata": {},
   "outputs": [
    {
     "name": "stdout",
     "output_type": "stream",
     "text": [
      "1.1107396906428033\n",
      "0.3303801442214602\n",
      "||| 0.5747870424961407 |||\n"
     ]
    }
   ],
   "source": [
    "from sklearn.metrics import mean_squared_error\n",
    "from sklearn.preprocessing import MinMaxScaler\n",
    "from math import sqrt\n",
    "import statistics\n",
    "\n",
    "rmse = sqrt(mean_squared_error(y_test, prediction))\n",
    "print(rmse)\n",
    "#normalized\n",
    "scaler = MinMaxScaler()\n",
    "y_test = scaler.fit_transform(np.array(y_test).reshape(-1, 1))\n",
    "prediction = scaler.fit_transform(np.array(prediction).reshape(-1, 1))\n",
    "print(mean_squared_error(y_test, prediction))\n",
    "rmse_normalized = sqrt(mean_squared_error(y_test, prediction))\n",
    "print('|||',rmse_normalized,'|||')"
   ]
  },
  {
   "cell_type": "code",
   "execution_count": 92,
   "metadata": {},
   "outputs": [
    {
     "data": {
      "image/png": "[encoded data removed]",
      "text/plain": [
       "<Figure size 432x288 with 1 Axes>"
      ]
     },
     "metadata": {},
     "output_type": "display_data"
    }
   ],
   "source": [
    "from mlxtend.plotting import plot_learning_curves\n",
    "\n",
    "#change C and epsilon values\n",
    "#over, under and best fit\n",
    "\n",
    "clf = SVR(kernel='rbf')\n",
    "# clf2 = LinearRegression()\n",
    "\n",
    "plot_learning_curves(X_train, y_train, X_test, y_test, clf, scoring='mean_squared_error', print_model=False)\n",
    "plt.show()"
   ]
  },
  {
   "cell_type": "code",
   "execution_count": 93,
   "metadata": {},
   "outputs": [
    {
     "data": {
      "text/plain": [
       "['savedModels/action.joblib']"
      ]
     },
     "execution_count": 93,
     "metadata": {},
     "output_type": "execute_result"
    }
   ],
   "source": [
    "import joblib\n",
    "\n",
    "filename = 'savedModels/action.joblib'\n",
    "joblib.dump(model, filename)"
   ]
  },
  {
   "cell_type": "code",
   "execution_count": 94,
   "metadata": {},
   "outputs": [
    {
     "data": {
      "text/plain": [
       "{'C': 100, 'epsilon': 0.1, 'gamma': 0.005}"
      ]
     },
     "execution_count": 94,
     "metadata": {},
     "output_type": "execute_result"
    }
   ],
   "source": [
    "from sklearn.model_selection import GridSearchCV\n",
    "\n",
    "gsc = GridSearchCV(\n",
    "        estimator=SVR(kernel='rbf'),\n",
    "        param_grid={\n",
    "            'C': [0.1, 1, 100, 1000],\n",
    "            'epsilon': [0.0001, 0.0005, 0.001, 0.005, 0.01, 0.05, 0.1, 0.5, 1, 5, 10],\n",
    "            'gamma': [0.0001, 0.001, 0.005, 0.1, 1, 3, 5]\n",
    "        })\n",
    "grid_result = gsc.fit(X_train, y_train)\n",
    "best_params = grid_result.best_params_\n",
    "best_params"
   ]
  }
 ],
 "metadata": {
  "kernelspec": {
   "display_name": "Python 3",
   "language": "python",
   "name": "python3"
  },
  "language_info": {
   "codemirror_mode": {
    "name": "ipython",
    "version": 3
   },
   "file_extension": ".py",
   "mimetype": "text/x-python",
   "name": "python",
   "nbconvert_exporter": "python",
   "pygments_lexer": "ipython3",
   "version": "3.8.0"
  }
 },
 "nbformat": 4,
 "nbformat_minor": 2
}
