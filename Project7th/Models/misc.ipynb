{
 "cells": [
  {
   "cell_type": "code",
   "execution_count": 1,
   "metadata": {},
   "outputs": [
    {
     "data": {
      "text/html": [
       "<div>\n",
       "<style scoped>\n",
       "    .dataframe tbody tr th:only-of-type {\n",
       "        vertical-align: middle;\n",
       "    }\n",
       "\n",
       "    .dataframe tbody tr th {\n",
       "        vertical-align: top;\n",
       "    }\n",
       "\n",
       "    .dataframe thead th {\n",
       "        text-align: right;\n",
       "    }\n",
       "</style>\n",
       "<table border=\"1\" class=\"dataframe\">\n",
       "  <thead>\n",
       "    <tr style=\"text-align: right;\">\n",
       "      <th></th>\n",
       "      <th>Year_of_Release</th>\n",
       "      <th>Genre</th>\n",
       "      <th>NA_Sales</th>\n",
       "      <th>EU_Sales</th>\n",
       "      <th>JP_Sales</th>\n",
       "      <th>Other_Sales</th>\n",
       "      <th>Global_Sales</th>\n",
       "      <th>Average</th>\n",
       "      <th>2600</th>\n",
       "      <th>3DS</th>\n",
       "      <th>...</th>\n",
       "      <th>PS4</th>\n",
       "      <th>PSP</th>\n",
       "      <th>PSV</th>\n",
       "      <th>SAT</th>\n",
       "      <th>SNES</th>\n",
       "      <th>Wii</th>\n",
       "      <th>WiiU</th>\n",
       "      <th>X</th>\n",
       "      <th>X360</th>\n",
       "      <th>XOne</th>\n",
       "    </tr>\n",
       "  </thead>\n",
       "  <tbody>\n",
       "    <tr>\n",
       "      <th>0</th>\n",
       "      <td>2006</td>\n",
       "      <td>2</td>\n",
       "      <td>13.96</td>\n",
       "      <td>9.18</td>\n",
       "      <td>2.93</td>\n",
       "      <td>2.84</td>\n",
       "      <td>28.92</td>\n",
       "      <td>11.566</td>\n",
       "      <td>0</td>\n",
       "      <td>0</td>\n",
       "      <td>...</td>\n",
       "      <td>0</td>\n",
       "      <td>0</td>\n",
       "      <td>0</td>\n",
       "      <td>0</td>\n",
       "      <td>0</td>\n",
       "      <td>1</td>\n",
       "      <td>0</td>\n",
       "      <td>0</td>\n",
       "      <td>0</td>\n",
       "      <td>0</td>\n",
       "    </tr>\n",
       "    <tr>\n",
       "      <th>1</th>\n",
       "      <td>2010</td>\n",
       "      <td>2</td>\n",
       "      <td>15.02</td>\n",
       "      <td>4.91</td>\n",
       "      <td>0.24</td>\n",
       "      <td>1.69</td>\n",
       "      <td>21.86</td>\n",
       "      <td>8.744</td>\n",
       "      <td>0</td>\n",
       "      <td>0</td>\n",
       "      <td>...</td>\n",
       "      <td>0</td>\n",
       "      <td>0</td>\n",
       "      <td>0</td>\n",
       "      <td>0</td>\n",
       "      <td>0</td>\n",
       "      <td>0</td>\n",
       "      <td>0</td>\n",
       "      <td>0</td>\n",
       "      <td>1</td>\n",
       "      <td>0</td>\n",
       "    </tr>\n",
       "    <tr>\n",
       "      <th>2</th>\n",
       "      <td>2005</td>\n",
       "      <td>2</td>\n",
       "      <td>4.74</td>\n",
       "      <td>9.20</td>\n",
       "      <td>4.16</td>\n",
       "      <td>2.04</td>\n",
       "      <td>20.15</td>\n",
       "      <td>8.058</td>\n",
       "      <td>0</td>\n",
       "      <td>0</td>\n",
       "      <td>...</td>\n",
       "      <td>0</td>\n",
       "      <td>0</td>\n",
       "      <td>0</td>\n",
       "      <td>0</td>\n",
       "      <td>0</td>\n",
       "      <td>0</td>\n",
       "      <td>0</td>\n",
       "      <td>0</td>\n",
       "      <td>0</td>\n",
       "      <td>0</td>\n",
       "    </tr>\n",
       "    <tr>\n",
       "      <th>3</th>\n",
       "      <td>2011</td>\n",
       "      <td>2</td>\n",
       "      <td>5.95</td>\n",
       "      <td>3.11</td>\n",
       "      <td>0.00</td>\n",
       "      <td>1.06</td>\n",
       "      <td>10.12</td>\n",
       "      <td>4.048</td>\n",
       "      <td>0</td>\n",
       "      <td>0</td>\n",
       "      <td>...</td>\n",
       "      <td>0</td>\n",
       "      <td>0</td>\n",
       "      <td>0</td>\n",
       "      <td>0</td>\n",
       "      <td>0</td>\n",
       "      <td>1</td>\n",
       "      <td>0</td>\n",
       "      <td>0</td>\n",
       "      <td>0</td>\n",
       "      <td>0</td>\n",
       "    </tr>\n",
       "    <tr>\n",
       "      <th>4</th>\n",
       "      <td>2010</td>\n",
       "      <td>2</td>\n",
       "      <td>5.80</td>\n",
       "      <td>2.85</td>\n",
       "      <td>0.01</td>\n",
       "      <td>0.78</td>\n",
       "      <td>9.44</td>\n",
       "      <td>3.776</td>\n",
       "      <td>0</td>\n",
       "      <td>0</td>\n",
       "      <td>...</td>\n",
       "      <td>0</td>\n",
       "      <td>0</td>\n",
       "      <td>0</td>\n",
       "      <td>0</td>\n",
       "      <td>0</td>\n",
       "      <td>1</td>\n",
       "      <td>0</td>\n",
       "      <td>0</td>\n",
       "      <td>0</td>\n",
       "      <td>0</td>\n",
       "    </tr>\n",
       "  </tbody>\n",
       "</table>\n",
       "<p>5 rows × 32 columns</p>\n",
       "</div>"
      ],
      "text/plain": [
       "   Year_of_Release  Genre  NA_Sales  EU_Sales  JP_Sales  Other_Sales  \\\n",
       "0             2006      2     13.96      9.18      2.93         2.84   \n",
       "1             2010      2     15.02      4.91      0.24         1.69   \n",
       "2             2005      2      4.74      9.20      4.16         2.04   \n",
       "3             2011      2      5.95      3.11      0.00         1.06   \n",
       "4             2010      2      5.80      2.85      0.01         0.78   \n",
       "\n",
       "   Global_Sales  Average  2600  3DS  ...  PS4  PSP  PSV  SAT  SNES  Wii  WiiU  \\\n",
       "0         28.92   11.566     0    0  ...    0    0    0    0     0    1     0   \n",
       "1         21.86    8.744     0    0  ...    0    0    0    0     0    0     0   \n",
       "2         20.15    8.058     0    0  ...    0    0    0    0     0    0     0   \n",
       "3         10.12    4.048     0    0  ...    0    0    0    0     0    1     0   \n",
       "4          9.44    3.776     0    0  ...    0    0    0    0     0    1     0   \n",
       "\n",
       "   X  X360  XOne  \n",
       "0  0     0     0  \n",
       "1  0     1     0  \n",
       "2  0     0     0  \n",
       "3  0     0     0  \n",
       "4  0     0     0  \n",
       "\n",
       "[5 rows x 32 columns]"
      ]
     },
     "execution_count": 1,
     "metadata": {},
     "output_type": "execute_result"
    }
   ],
   "source": [
    "import pandas as pd\n",
    "import numpy as np\n",
    "import matplotlib.pyplot as plt\n",
    "\n",
    "misc = pd.read_csv(\"Data/CleanedDataMisc.csv\")\n",
    "misc.head()"
   ]
  },
  {
   "cell_type": "code",
   "execution_count": 4,
   "metadata": {},
   "outputs": [
    {
     "data": {
      "text/html": [
       "<div>\n",
       "<style scoped>\n",
       "    .dataframe tbody tr th:only-of-type {\n",
       "        vertical-align: middle;\n",
       "    }\n",
       "\n",
       "    .dataframe tbody tr th {\n",
       "        vertical-align: top;\n",
       "    }\n",
       "\n",
       "    .dataframe thead th {\n",
       "        text-align: right;\n",
       "    }\n",
       "</style>\n",
       "<table border=\"1\" class=\"dataframe\">\n",
       "  <thead>\n",
       "    <tr style=\"text-align: right;\">\n",
       "      <th></th>\n",
       "      <th>Year</th>\n",
       "      <th>Average Sales</th>\n",
       "      <th>Global Sales</th>\n",
       "    </tr>\n",
       "  </thead>\n",
       "  <tbody>\n",
       "    <tr>\n",
       "      <td>0</td>\n",
       "      <td>1997</td>\n",
       "      <td>NaN</td>\n",
       "      <td>NaN</td>\n",
       "    </tr>\n",
       "    <tr>\n",
       "      <td>1</td>\n",
       "      <td>1998</td>\n",
       "      <td>1.080000</td>\n",
       "      <td>2.700000</td>\n",
       "    </tr>\n",
       "    <tr>\n",
       "      <td>2</td>\n",
       "      <td>1999</td>\n",
       "      <td>1.563000</td>\n",
       "      <td>3.905000</td>\n",
       "    </tr>\n",
       "    <tr>\n",
       "      <td>3</td>\n",
       "      <td>2000</td>\n",
       "      <td>1.275000</td>\n",
       "      <td>3.190000</td>\n",
       "    </tr>\n",
       "    <tr>\n",
       "      <td>4</td>\n",
       "      <td>2001</td>\n",
       "      <td>1.694000</td>\n",
       "      <td>4.240000</td>\n",
       "    </tr>\n",
       "    <tr>\n",
       "      <td>5</td>\n",
       "      <td>2002</td>\n",
       "      <td>NaN</td>\n",
       "      <td>NaN</td>\n",
       "    </tr>\n",
       "    <tr>\n",
       "      <td>6</td>\n",
       "      <td>2003</td>\n",
       "      <td>1.682000</td>\n",
       "      <td>4.200000</td>\n",
       "    </tr>\n",
       "    <tr>\n",
       "      <td>7</td>\n",
       "      <td>2004</td>\n",
       "      <td>1.160000</td>\n",
       "      <td>2.900000</td>\n",
       "    </tr>\n",
       "    <tr>\n",
       "      <td>8</td>\n",
       "      <td>2005</td>\n",
       "      <td>4.100000</td>\n",
       "      <td>10.253333</td>\n",
       "    </tr>\n",
       "    <tr>\n",
       "      <td>9</td>\n",
       "      <td>2006</td>\n",
       "      <td>3.514400</td>\n",
       "      <td>8.788000</td>\n",
       "    </tr>\n",
       "    <tr>\n",
       "      <td>10</td>\n",
       "      <td>2007</td>\n",
       "      <td>2.148250</td>\n",
       "      <td>5.371250</td>\n",
       "    </tr>\n",
       "    <tr>\n",
       "      <td>11</td>\n",
       "      <td>2008</td>\n",
       "      <td>1.288000</td>\n",
       "      <td>3.220000</td>\n",
       "    </tr>\n",
       "    <tr>\n",
       "      <td>12</td>\n",
       "      <td>2009</td>\n",
       "      <td>2.174000</td>\n",
       "      <td>5.435000</td>\n",
       "    </tr>\n",
       "    <tr>\n",
       "      <td>13</td>\n",
       "      <td>2010</td>\n",
       "      <td>3.316667</td>\n",
       "      <td>8.290000</td>\n",
       "    </tr>\n",
       "    <tr>\n",
       "      <td>14</td>\n",
       "      <td>2011</td>\n",
       "      <td>4.048000</td>\n",
       "      <td>10.120000</td>\n",
       "    </tr>\n",
       "  </tbody>\n",
       "</table>\n",
       "</div>"
      ],
      "text/plain": [
       "    Year  Average Sales  Global Sales\n",
       "0   1997            NaN           NaN\n",
       "1   1998       1.080000      2.700000\n",
       "2   1999       1.563000      3.905000\n",
       "3   2000       1.275000      3.190000\n",
       "4   2001       1.694000      4.240000\n",
       "5   2002            NaN           NaN\n",
       "6   2003       1.682000      4.200000\n",
       "7   2004       1.160000      2.900000\n",
       "8   2005       4.100000     10.253333\n",
       "9   2006       3.514400      8.788000\n",
       "10  2007       2.148250      5.371250\n",
       "11  2008       1.288000      3.220000\n",
       "12  2009       2.174000      5.435000\n",
       "13  2010       3.316667      8.290000\n",
       "14  2011       4.048000     10.120000"
      ]
     },
     "execution_count": 4,
     "metadata": {},
     "output_type": "execute_result"
    }
   ],
   "source": [
    "#calculate average sales for action genre from 1997 to 2011\n",
    "data = {'Year': [],\n",
    "        'Average Sales': []}\n",
    "sales = pd.DataFrame(data)\n",
    "year = 1997\n",
    "for i in range(15):\n",
    "    x = misc[misc['Year_of_Release'] == year]\n",
    "    avg = x['Average'].mean()\n",
    "    globalsales = x['Global_Sales'].mean()\n",
    "    \n",
    "    data = {'Year': year,\n",
    "            'Average Sales': avg,\n",
    "            'Global Sales': globalsales}\n",
    "    sales = sales.append(data, ignore_index=True)\n",
    "    year += 1\n",
    "\n",
    "sales['Year'] = sales['Year'].astype(int) \n",
    "sales"
   ]
  },
  {
   "cell_type": "code",
   "execution_count": 5,
   "metadata": {},
   "outputs": [
    {
     "data": {
      "text/html": [
       "<div>\n",
       "<style scoped>\n",
       "    .dataframe tbody tr th:only-of-type {\n",
       "        vertical-align: middle;\n",
       "    }\n",
       "\n",
       "    .dataframe tbody tr th {\n",
       "        vertical-align: top;\n",
       "    }\n",
       "\n",
       "    .dataframe thead th {\n",
       "        text-align: right;\n",
       "    }\n",
       "</style>\n",
       "<table border=\"1\" class=\"dataframe\">\n",
       "  <thead>\n",
       "    <tr style=\"text-align: right;\">\n",
       "      <th></th>\n",
       "      <th>Year</th>\n",
       "      <th>Average Sales</th>\n",
       "      <th>Global Sales</th>\n",
       "    </tr>\n",
       "  </thead>\n",
       "  <tbody>\n",
       "    <tr>\n",
       "      <td>0</td>\n",
       "      <td>1997</td>\n",
       "      <td>2.234101</td>\n",
       "      <td>5.585583</td>\n",
       "    </tr>\n",
       "    <tr>\n",
       "      <td>1</td>\n",
       "      <td>1998</td>\n",
       "      <td>1.080000</td>\n",
       "      <td>2.700000</td>\n",
       "    </tr>\n",
       "    <tr>\n",
       "      <td>2</td>\n",
       "      <td>1999</td>\n",
       "      <td>1.563000</td>\n",
       "      <td>3.905000</td>\n",
       "    </tr>\n",
       "    <tr>\n",
       "      <td>3</td>\n",
       "      <td>2000</td>\n",
       "      <td>1.275000</td>\n",
       "      <td>3.190000</td>\n",
       "    </tr>\n",
       "    <tr>\n",
       "      <td>4</td>\n",
       "      <td>2001</td>\n",
       "      <td>1.694000</td>\n",
       "      <td>4.240000</td>\n",
       "    </tr>\n",
       "  </tbody>\n",
       "</table>\n",
       "</div>"
      ],
      "text/plain": [
       "   Year  Average Sales  Global Sales\n",
       "0  1997       2.234101      5.585583\n",
       "1  1998       1.080000      2.700000\n",
       "2  1999       1.563000      3.905000\n",
       "3  2000       1.275000      3.190000\n",
       "4  2001       1.694000      4.240000"
      ]
     },
     "execution_count": 5,
     "metadata": {},
     "output_type": "execute_result"
    }
   ],
   "source": [
    "#replace NaN values with average\n",
    "gblAvg = sales['Global Sales'].mean()\n",
    "Avg = sales['Average Sales'].mean()\n",
    "sales['Global Sales'] = sales['Global Sales'].replace(np.nan, gblAvg)\n",
    "sales['Average Sales'] = sales['Average Sales'].replace(np.nan, Avg)\n",
    "sales.head()"
   ]
  },
  {
   "cell_type": "code",
   "execution_count": 6,
   "metadata": {},
   "outputs": [
    {
     "data": {
      "image/png": "[encoded data removed]",
      "text/plain": [
       "<Figure size 432x288 with 1 Axes>"
      ]
     },
     "metadata": {
      "needs_background": "light"
     },
     "output_type": "display_data"
    }
   ],
   "source": [
    "#sales plot\n",
    "plt.plot(sales['Year'], sales['Average Sales'], sales['Year'], sales['Global Sales'])\n",
    "plt.title('Miscellaneous')\n",
    "plt.xlabel('Year')\n",
    "plt.ylabel('Sales(in Millions)')\n",
    "plt.show()"
   ]
  },
  {
   "cell_type": "code",
   "execution_count": 2,
   "metadata": {},
   "outputs": [],
   "source": [
    "#for SVR algorithm\n",
    "from sklearn.svm import SVR\n",
    "from sklearn.model_selection import train_test_split\n",
    "\n",
    "y = misc['Average'] #output\n",
    "ygl = misc['Global_Sales']\n",
    "X = np.array(misc['Year_of_Release']).reshape(-1,1) #input\n",
    "\n",
    "X_train, X_test, y_train, y_test = train_test_split(X, y, test_size=0.1)\n",
    "Xgl_train, Xgl_test, ygl_train, ygl_test = train_test_split(X, y, test_size=0.2)"
   ]
  },
  {
   "cell_type": "code",
   "execution_count": 3,
   "metadata": {},
   "outputs": [
    {
     "data": {
      "image/png": "[encoded data removed]",
      "text/plain": [
       "<Figure size 432x288 with 1 Axes>"
      ]
     },
     "metadata": {
      "needs_background": "light"
     },
     "output_type": "display_data"
    }
   ],
   "source": [
    "model = SVR(kernel='rbf')\n",
    "modelgl = SVR(kernel='rbf')\n",
    "\n",
    "model.fit(X_train, y_train)\n",
    "modelgl.fit(Xgl_train, ygl_train)\n",
    "prediction = model.predict(X_test)\n",
    "predictiongl = modelgl.predict(Xgl_test)\n",
    "# model.score(X_test, y_test)\n",
    "\n",
    "# prediction\n",
    "\n",
    "X_grid = np.arange(min(X_train), max(X_train), 0.01)\n",
    "X_grid = X_grid.reshape((len(X_grid), 1))\n",
    "\n",
    "# plt.scatter(X_test, prediction)\n",
    "plt.ylim(top=3)\n",
    "plt.title('Model Fit')\n",
    "plt.xlabel('Years')\n",
    "plt.ylabel('Sales')\n",
    "plt.scatter(X_train, y_train, color='red')\n",
    "plt.plot(X_grid, model.predict(X_grid), color='green')\n",
    "plt.scatter(X_test, prediction, color='blue')\n",
    "plt.show()  #why you do dis???"
   ]
  },
  {
   "cell_type": "code",
   "execution_count": 9,
   "metadata": {},
   "outputs": [
    {
     "name": "stdout",
     "output_type": "stream",
     "text": [
      "1.7373285622575105\n"
     ]
    }
   ],
   "source": [
    "#mean squared error (manual)\n",
    "tot = 0\n",
    "for x in range(26):\n",
    "    y = (np.array(y_test)[x]-prediction[x])**2\n",
    "    tot = tot + y\n",
    "print(tot/26)"
   ]
  },
  {
   "cell_type": "code",
   "execution_count": 4,
   "metadata": {},
   "outputs": [
    {
     "data": {
      "image/png": "[encoded data removed]",
      "text/plain": [
       "<Figure size 432x288 with 1 Axes>"
      ]
     },
     "metadata": {
      "needs_background": "light"
     },
     "output_type": "display_data"
    }
   ],
   "source": [
    "#make predictions\n",
    "year = [2016, 2017, 2018, 2019, 2020, 2021, 2022, 2023, 2024, 2025, 2026, 2027, 2028, 2029, 2030]\n",
    "data = {'Prediction_Year': [],\n",
    "        'Predicted_Sales': [],\n",
    "        'Global': []}\n",
    "future_sales = pd.DataFrame(data)\n",
    "future_sales['Prediction_Year'] = future_sales['Prediction_Year'].astype(int)\n",
    "\n",
    "for i in range(15):\n",
    "    x = model.predict([[year[i]]])\n",
    "    xgl = modelgl.predict([[year[i]]])\n",
    "    data = {'Prediction_Year': year[i],\n",
    "            'Predicted_Sales': x,\n",
    "            'Global': xgl}\n",
    "    future_sales = future_sales.append(data, ignore_index=True)\n",
    "\n",
    "plt.plot(future_sales['Prediction_Year'], future_sales['Predicted_Sales']) \n",
    "plt.plot(future_sales['Prediction_Year'], future_sales['Global'], ls = '--')\n",
    "plt.xlabel('Year')\n",
    "plt.ylabel('Sales(in Millions)')\n",
    "plt.show()\n"
   ]
  },
  {
   "cell_type": "code",
   "execution_count": null,
   "metadata": {},
   "outputs": [],
   "source": []
  },
  {
   "cell_type": "code",
   "execution_count": 11,
   "metadata": {},
   "outputs": [
    {
     "name": "stdout",
     "output_type": "stream",
     "text": [
      "1.7373285622575105\n",
      "0.6600288437655716\n"
     ]
    }
   ],
   "source": [
    "from sklearn.metrics import mean_squared_error\n",
    "from math import sqrt\n",
    "import statistics\n",
    "\n",
    "print(mean_squared_error(y_test, prediction))\n",
    "test_rmse = sqrt(mean_squared_error(y_test, prediction))\n",
    "print(test_rmse/statistics.mean(y_test))"
   ]
  },
  {
   "cell_type": "code",
   "execution_count": 12,
   "metadata": {},
   "outputs": [
    {
     "name": "stdout",
     "output_type": "stream",
     "text": [
      "1.3180776009998465\n"
     ]
    }
   ],
   "source": [
    "print(test_rmse)"
   ]
  },
  {
   "cell_type": "code",
   "execution_count": 15,
   "metadata": {},
   "outputs": [
    {
     "data": {
      "image/png": "[encoded data removed]",
      "text/plain": [
       "<Figure size 432x288 with 1 Axes>"
      ]
     },
     "metadata": {
      "needs_background": "light"
     },
     "output_type": "display_data"
    },
    {
     "data": {
      "text/plain": [
       "array([2.16016817])"
      ]
     },
     "execution_count": 15,
     "metadata": {},
     "output_type": "execute_result"
    }
   ],
   "source": [
    "#for XGBoost algorithm\n",
    "# from xgboost import XGBClassifier\n",
    "from sklearn.linear_model import LinearRegression\n",
    "\n",
    "# xgb_classifier = XGBClassifier()\n",
    "# xgb_classifier.fit(X_train, y_train)\n",
    "# prediction_xgb = xgb_classifier.predict(X_test)\n",
    "\n",
    "line = LinearRegression()\n",
    "linegbl = LinearRegression()\n",
    "line.fit(X_train, y_train)\n",
    "linegbl.fit(Xgl_train, ygl_train)\n",
    "prediction_lin = line.predict(X_test)\n",
    "\n",
    "\n",
    "plt.scatter(X_train, y_train, color='red')\n",
    "plt.scatter(X_test, prediction_lin, color='blue')\n",
    "plt.show()\n",
    "line.predict([[2005]])"
   ]
  },
  {
   "cell_type": "code",
   "execution_count": null,
   "metadata": {
    "scrolled": false
   },
   "outputs": [],
   "source": [
    "rmse_lin = mean_squared_error(y_test, prediction_lin)\n",
    "print(rmse_lin)"
   ]
  },
  {
   "cell_type": "code",
   "execution_count": 17,
   "metadata": {},
   "outputs": [
    {
     "data": {
      "image/png": "[encoded data removed]",
      "text/plain": [
       "<Figure size 432x288 with 1 Axes>"
      ]
     },
     "metadata": {
      "needs_background": "light"
     },
     "output_type": "display_data"
    },
    {
     "data": {
      "text/html": [
       "<div>\n",
       "<style scoped>\n",
       "    .dataframe tbody tr th:only-of-type {\n",
       "        vertical-align: middle;\n",
       "    }\n",
       "\n",
       "    .dataframe tbody tr th {\n",
       "        vertical-align: top;\n",
       "    }\n",
       "\n",
       "    .dataframe thead th {\n",
       "        text-align: right;\n",
       "    }\n",
       "</style>\n",
       "<table border=\"1\" class=\"dataframe\">\n",
       "  <thead>\n",
       "    <tr style=\"text-align: right;\">\n",
       "      <th></th>\n",
       "      <th>Prediction_Year</th>\n",
       "      <th>Predicted_Sales</th>\n",
       "      <th>Global Sales</th>\n",
       "    </tr>\n",
       "  </thead>\n",
       "  <tbody>\n",
       "    <tr>\n",
       "      <td>0</td>\n",
       "      <td>2016</td>\n",
       "      <td>[2.3298724629255396]</td>\n",
       "      <td>[2.5839443694424986]</td>\n",
       "    </tr>\n",
       "    <tr>\n",
       "      <td>1</td>\n",
       "      <td>2017</td>\n",
       "      <td>[2.3453001261211384]</td>\n",
       "      <td>[2.600953796902324]</td>\n",
       "    </tr>\n",
       "    <tr>\n",
       "      <td>2</td>\n",
       "      <td>2018</td>\n",
       "      <td>[2.3607277893167407]</td>\n",
       "      <td>[2.61796322436215]</td>\n",
       "    </tr>\n",
       "    <tr>\n",
       "      <td>3</td>\n",
       "      <td>2019</td>\n",
       "      <td>[2.3761554525123394]</td>\n",
       "      <td>[2.6349726518219754]</td>\n",
       "    </tr>\n",
       "    <tr>\n",
       "      <td>4</td>\n",
       "      <td>2020</td>\n",
       "      <td>[2.3915831157079417]</td>\n",
       "      <td>[2.651982079281801]</td>\n",
       "    </tr>\n",
       "    <tr>\n",
       "      <td>5</td>\n",
       "      <td>2021</td>\n",
       "      <td>[2.4070107789035404]</td>\n",
       "      <td>[2.6689915067416337]</td>\n",
       "    </tr>\n",
       "    <tr>\n",
       "      <td>6</td>\n",
       "      <td>2022</td>\n",
       "      <td>[2.4224384420991427]</td>\n",
       "      <td>[2.6860009342014592]</td>\n",
       "    </tr>\n",
       "    <tr>\n",
       "      <td>7</td>\n",
       "      <td>2023</td>\n",
       "      <td>[2.4378661052947415]</td>\n",
       "      <td>[2.703010361661285]</td>\n",
       "    </tr>\n",
       "    <tr>\n",
       "      <td>8</td>\n",
       "      <td>2024</td>\n",
       "      <td>[2.45329376849034]</td>\n",
       "      <td>[2.7200197891211104]</td>\n",
       "    </tr>\n",
       "    <tr>\n",
       "      <td>9</td>\n",
       "      <td>2025</td>\n",
       "      <td>[2.4687214316859425]</td>\n",
       "      <td>[2.737029216580936]</td>\n",
       "    </tr>\n",
       "    <tr>\n",
       "      <td>10</td>\n",
       "      <td>2026</td>\n",
       "      <td>[2.4841490948815412]</td>\n",
       "      <td>[2.7540386440407616]</td>\n",
       "    </tr>\n",
       "    <tr>\n",
       "      <td>11</td>\n",
       "      <td>2027</td>\n",
       "      <td>[2.4995767580771435]</td>\n",
       "      <td>[2.771048071500587]</td>\n",
       "    </tr>\n",
       "    <tr>\n",
       "      <td>12</td>\n",
       "      <td>2028</td>\n",
       "      <td>[2.5150044212727423]</td>\n",
       "      <td>[2.7880574989604128]</td>\n",
       "    </tr>\n",
       "    <tr>\n",
       "      <td>13</td>\n",
       "      <td>2029</td>\n",
       "      <td>[2.5304320844683446]</td>\n",
       "      <td>[2.8050669264202455]</td>\n",
       "    </tr>\n",
       "    <tr>\n",
       "      <td>14</td>\n",
       "      <td>2030</td>\n",
       "      <td>[2.5458597476639433]</td>\n",
       "      <td>[2.822076353880071]</td>\n",
       "    </tr>\n",
       "  </tbody>\n",
       "</table>\n",
       "</div>"
      ],
      "text/plain": [
       "    Prediction_Year       Predicted_Sales          Global Sales\n",
       "0              2016  [2.3298724629255396]  [2.5839443694424986]\n",
       "1              2017  [2.3453001261211384]   [2.600953796902324]\n",
       "2              2018  [2.3607277893167407]    [2.61796322436215]\n",
       "3              2019  [2.3761554525123394]  [2.6349726518219754]\n",
       "4              2020  [2.3915831157079417]   [2.651982079281801]\n",
       "5              2021  [2.4070107789035404]  [2.6689915067416337]\n",
       "6              2022  [2.4224384420991427]  [2.6860009342014592]\n",
       "7              2023  [2.4378661052947415]   [2.703010361661285]\n",
       "8              2024    [2.45329376849034]  [2.7200197891211104]\n",
       "9              2025  [2.4687214316859425]   [2.737029216580936]\n",
       "10             2026  [2.4841490948815412]  [2.7540386440407616]\n",
       "11             2027  [2.4995767580771435]   [2.771048071500587]\n",
       "12             2028  [2.5150044212727423]  [2.7880574989604128]\n",
       "13             2029  [2.5304320844683446]  [2.8050669264202455]\n",
       "14             2030  [2.5458597476639433]   [2.822076353880071]"
      ]
     },
     "execution_count": 17,
     "metadata": {},
     "output_type": "execute_result"
    }
   ],
   "source": [
    "year = [2016, 2017, 2018, 2019, 2020, 2021, 2022, 2023, 2024, 2025, 2026, 2027, 2028, 2029, 2030]\n",
    "data = {'Prediction_Year': [],\n",
    "        'Predicted_Sales': [],\n",
    "        'Global Sales': []}\n",
    "future_sales_lin = pd.DataFrame(data)\n",
    "future_sales_lin['Prediction_Year'] = future_sales_lin['Prediction_Year'].astype(int)\n",
    "\n",
    "for i in range(15):\n",
    "    lin = line.predict([[year[i]]])\n",
    "    lingbl = linegbl.predict([[year[i]]])\n",
    "    data = {'Prediction_Year': year[i],\n",
    "            'Predicted_Sales': lin,\n",
    "            'Global Sales': lingbl}\n",
    "    future_sales_lin = future_sales_lin.append(data, ignore_index=True)\n",
    "\n",
    "plt.plot(future_sales_lin['Prediction_Year'], future_sales_lin['Predicted_Sales'], future_sales_lin['Prediction_Year'], future_sales_lin['Global Sales'])\n",
    "plt.xlabel('Year')\n",
    "plt.ylabel('Sales(in Millions)')\n",
    "plt.show()\n",
    "future_sales_lin"
   ]
  },
  {
   "cell_type": "code",
   "execution_count": 16,
   "metadata": {},
   "outputs": [
    {
     "name": "stdout",
     "output_type": "stream",
     "text": [
      "[1.55878788]\n",
      "[2.25550187]\n"
     ]
    }
   ],
   "source": [
    "print(modelgl.predict([[2031]]))\n",
    "print(linegbl.predict([[2056]]))"
   ]
  },
  {
   "cell_type": "code",
   "execution_count": 58,
   "metadata": {},
   "outputs": [
    {
     "name": "stdout",
     "output_type": "stream",
     "text": [
      "(9, 1) (1, 1) (9,) (1,)\n"
     ]
    }
   ],
   "source": [
    "print(X_train.shape, X_test.shape, y_train.shape, y_test.shape)"
   ]
  },
  {
   "cell_type": "code",
   "execution_count": 8,
   "metadata": {},
   "outputs": [
    {
     "data": {
      "image/png": "[encoded data removed]",
      "text/plain": [
       "<Figure size 432x288 with 1 Axes>"
      ]
     },
     "metadata": {},
     "output_type": "display_data"
    }
   ],
   "source": [
    "from mlxtend.plotting import plot_learning_curves\n",
    "\n",
    "#change C and epsilon values\n",
    "#over, under and best fit\n",
    "\n",
    "clf = SVR(kernel='rbf')\n",
    "# clf2 = LinearRegression()\n",
    "\n",
    "plot_learning_curves(X_train, y_train, X_test, y_test, clf, scoring='mean_squared_error', print_model=False)\n",
    "plt.show()"
   ]
  }
 ],
 "metadata": {
  "kernelspec": {
   "display_name": "Python 3",
   "language": "python",
   "name": "python3"
  },
  "language_info": {
   "codemirror_mode": {
    "name": "ipython",
    "version": 3
   },
   "file_extension": ".py",
   "mimetype": "text/x-python",
   "name": "python",
   "nbconvert_exporter": "python",
   "pygments_lexer": "ipython3",
   "version": "3.8.0"
  }
 },
 "nbformat": 4,
 "nbformat_minor": 2
}
