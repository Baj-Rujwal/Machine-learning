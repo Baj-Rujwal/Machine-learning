{
 "cells": [
  {
   "cell_type": "code",
   "execution_count": 1,
   "metadata": {},
   "outputs": [
    {
     "data": {
      "text/html": [
       "<div>\n",
       "<style scoped>\n",
       "    .dataframe tbody tr th:only-of-type {\n",
       "        vertical-align: middle;\n",
       "    }\n",
       "\n",
       "    .dataframe tbody tr th {\n",
       "        vertical-align: top;\n",
       "    }\n",
       "\n",
       "    .dataframe thead th {\n",
       "        text-align: right;\n",
       "    }\n",
       "</style>\n",
       "<table border=\"1\" class=\"dataframe\">\n",
       "  <thead>\n",
       "    <tr style=\"text-align: right;\">\n",
       "      <th></th>\n",
       "      <th>Year_of_Release</th>\n",
       "      <th>Genre</th>\n",
       "      <th>NA_Sales</th>\n",
       "      <th>EU_Sales</th>\n",
       "      <th>JP_Sales</th>\n",
       "      <th>Other_Sales</th>\n",
       "      <th>Global_Sales</th>\n",
       "      <th>Average</th>\n",
       "      <th>2600</th>\n",
       "      <th>3DS</th>\n",
       "      <th>...</th>\n",
       "      <th>PS4</th>\n",
       "      <th>PSP</th>\n",
       "      <th>PSV</th>\n",
       "      <th>SAT</th>\n",
       "      <th>SNES</th>\n",
       "      <th>Wii</th>\n",
       "      <th>WiiU</th>\n",
       "      <th>X</th>\n",
       "      <th>X360</th>\n",
       "      <th>XOne</th>\n",
       "    </tr>\n",
       "  </thead>\n",
       "  <tbody>\n",
       "    <tr>\n",
       "      <th>0</th>\n",
       "      <td>1984</td>\n",
       "      <td>5</td>\n",
       "      <td>26.93</td>\n",
       "      <td>0.63</td>\n",
       "      <td>0.28</td>\n",
       "      <td>0.47</td>\n",
       "      <td>28.31</td>\n",
       "      <td>11.324</td>\n",
       "      <td>0</td>\n",
       "      <td>0</td>\n",
       "      <td>...</td>\n",
       "      <td>0</td>\n",
       "      <td>0</td>\n",
       "      <td>0</td>\n",
       "      <td>0</td>\n",
       "      <td>0</td>\n",
       "      <td>0</td>\n",
       "      <td>0</td>\n",
       "      <td>0</td>\n",
       "      <td>0</td>\n",
       "      <td>0</td>\n",
       "    </tr>\n",
       "    <tr>\n",
       "      <th>1</th>\n",
       "      <td>2015</td>\n",
       "      <td>5</td>\n",
       "      <td>6.08</td>\n",
       "      <td>5.95</td>\n",
       "      <td>0.36</td>\n",
       "      <td>2.41</td>\n",
       "      <td>14.80</td>\n",
       "      <td>5.920</td>\n",
       "      <td>0</td>\n",
       "      <td>0</td>\n",
       "      <td>...</td>\n",
       "      <td>1</td>\n",
       "      <td>0</td>\n",
       "      <td>0</td>\n",
       "      <td>0</td>\n",
       "      <td>0</td>\n",
       "      <td>0</td>\n",
       "      <td>0</td>\n",
       "      <td>0</td>\n",
       "      <td>0</td>\n",
       "      <td>0</td>\n",
       "    </tr>\n",
       "    <tr>\n",
       "      <th>2</th>\n",
       "      <td>2011</td>\n",
       "      <td>5</td>\n",
       "      <td>9.06</td>\n",
       "      <td>4.26</td>\n",
       "      <td>0.13</td>\n",
       "      <td>1.33</td>\n",
       "      <td>14.77</td>\n",
       "      <td>5.910</td>\n",
       "      <td>0</td>\n",
       "      <td>0</td>\n",
       "      <td>...</td>\n",
       "      <td>0</td>\n",
       "      <td>0</td>\n",
       "      <td>0</td>\n",
       "      <td>0</td>\n",
       "      <td>0</td>\n",
       "      <td>0</td>\n",
       "      <td>0</td>\n",
       "      <td>0</td>\n",
       "      <td>1</td>\n",
       "      <td>0</td>\n",
       "    </tr>\n",
       "    <tr>\n",
       "      <th>3</th>\n",
       "      <td>2010</td>\n",
       "      <td>5</td>\n",
       "      <td>9.73</td>\n",
       "      <td>3.70</td>\n",
       "      <td>0.11</td>\n",
       "      <td>1.13</td>\n",
       "      <td>14.67</td>\n",
       "      <td>5.868</td>\n",
       "      <td>0</td>\n",
       "      <td>0</td>\n",
       "      <td>...</td>\n",
       "      <td>0</td>\n",
       "      <td>0</td>\n",
       "      <td>0</td>\n",
       "      <td>0</td>\n",
       "      <td>0</td>\n",
       "      <td>0</td>\n",
       "      <td>0</td>\n",
       "      <td>0</td>\n",
       "      <td>1</td>\n",
       "      <td>0</td>\n",
       "    </tr>\n",
       "    <tr>\n",
       "      <th>4</th>\n",
       "      <td>2012</td>\n",
       "      <td>5</td>\n",
       "      <td>4.99</td>\n",
       "      <td>5.73</td>\n",
       "      <td>0.65</td>\n",
       "      <td>2.42</td>\n",
       "      <td>13.79</td>\n",
       "      <td>5.516</td>\n",
       "      <td>0</td>\n",
       "      <td>0</td>\n",
       "      <td>...</td>\n",
       "      <td>0</td>\n",
       "      <td>0</td>\n",
       "      <td>0</td>\n",
       "      <td>0</td>\n",
       "      <td>0</td>\n",
       "      <td>0</td>\n",
       "      <td>0</td>\n",
       "      <td>0</td>\n",
       "      <td>0</td>\n",
       "      <td>0</td>\n",
       "    </tr>\n",
       "  </tbody>\n",
       "</table>\n",
       "<p>5 rows × 32 columns</p>\n",
       "</div>"
      ],
      "text/plain": [
       "   Year_of_Release  Genre  NA_Sales  EU_Sales  JP_Sales  Other_Sales  \\\n",
       "0             1984      5     26.93      0.63      0.28         0.47   \n",
       "1             2015      5      6.08      5.95      0.36         2.41   \n",
       "2             2011      5      9.06      4.26      0.13         1.33   \n",
       "3             2010      5      9.73      3.70      0.11         1.13   \n",
       "4             2012      5      4.99      5.73      0.65         2.42   \n",
       "\n",
       "   Global_Sales  Average  2600  3DS  ...  PS4  PSP  PSV  SAT  SNES  Wii  WiiU  \\\n",
       "0         28.31   11.324     0    0  ...    0    0    0    0     0    0     0   \n",
       "1         14.80    5.920     0    0  ...    1    0    0    0     0    0     0   \n",
       "2         14.77    5.910     0    0  ...    0    0    0    0     0    0     0   \n",
       "3         14.67    5.868     0    0  ...    0    0    0    0     0    0     0   \n",
       "4         13.79    5.516     0    0  ...    0    0    0    0     0    0     0   \n",
       "\n",
       "   X  X360  XOne  \n",
       "0  0     0     0  \n",
       "1  0     0     0  \n",
       "2  0     1     0  \n",
       "3  0     1     0  \n",
       "4  0     0     0  \n",
       "\n",
       "[5 rows x 32 columns]"
      ]
     },
     "execution_count": 1,
     "metadata": {},
     "output_type": "execute_result"
    }
   ],
   "source": [
    "import pandas as pd\n",
    "import numpy as np\n",
    "import matplotlib.pyplot as plt\n",
    "\n",
    "shooter = pd.read_csv(\"Data/CleanedDataShooter.csv\")\n",
    "shooter.head()"
   ]
  },
  {
   "cell_type": "code",
   "execution_count": 30,
   "metadata": {},
   "outputs": [
    {
     "data": {
      "text/html": [
       "<div>\n",
       "<style scoped>\n",
       "    .dataframe tbody tr th:only-of-type {\n",
       "        vertical-align: middle;\n",
       "    }\n",
       "\n",
       "    .dataframe tbody tr th {\n",
       "        vertical-align: top;\n",
       "    }\n",
       "\n",
       "    .dataframe thead th {\n",
       "        text-align: right;\n",
       "    }\n",
       "</style>\n",
       "<table border=\"1\" class=\"dataframe\">\n",
       "  <thead>\n",
       "    <tr style=\"text-align: right;\">\n",
       "      <th></th>\n",
       "      <th>Year</th>\n",
       "      <th>Average Sales</th>\n",
       "      <th>Global Sales</th>\n",
       "    </tr>\n",
       "  </thead>\n",
       "  <tbody>\n",
       "    <tr>\n",
       "      <th>0</th>\n",
       "      <td>1997</td>\n",
       "      <td>2.166000</td>\n",
       "      <td>5.413333</td>\n",
       "    </tr>\n",
       "    <tr>\n",
       "      <th>1</th>\n",
       "      <td>1998</td>\n",
       "      <td>1.068000</td>\n",
       "      <td>2.670000</td>\n",
       "    </tr>\n",
       "    <tr>\n",
       "      <th>2</th>\n",
       "      <td>1999</td>\n",
       "      <td>1.218000</td>\n",
       "      <td>3.045000</td>\n",
       "    </tr>\n",
       "    <tr>\n",
       "      <th>3</th>\n",
       "      <td>2000</td>\n",
       "      <td>NaN</td>\n",
       "      <td>NaN</td>\n",
       "    </tr>\n",
       "    <tr>\n",
       "      <th>4</th>\n",
       "      <td>2001</td>\n",
       "      <td>1.770000</td>\n",
       "      <td>4.423333</td>\n",
       "    </tr>\n",
       "    <tr>\n",
       "      <th>5</th>\n",
       "      <td>2002</td>\n",
       "      <td>1.662500</td>\n",
       "      <td>4.157500</td>\n",
       "    </tr>\n",
       "    <tr>\n",
       "      <th>6</th>\n",
       "      <td>2003</td>\n",
       "      <td>1.615000</td>\n",
       "      <td>4.035000</td>\n",
       "    </tr>\n",
       "    <tr>\n",
       "      <th>7</th>\n",
       "      <td>2004</td>\n",
       "      <td>1.998000</td>\n",
       "      <td>4.996667</td>\n",
       "    </tr>\n",
       "    <tr>\n",
       "      <th>8</th>\n",
       "      <td>2005</td>\n",
       "      <td>1.253000</td>\n",
       "      <td>3.130000</td>\n",
       "    </tr>\n",
       "    <tr>\n",
       "      <th>9</th>\n",
       "      <td>2006</td>\n",
       "      <td>1.578500</td>\n",
       "      <td>3.947500</td>\n",
       "    </tr>\n",
       "    <tr>\n",
       "      <th>10</th>\n",
       "      <td>2007</td>\n",
       "      <td>2.876800</td>\n",
       "      <td>7.194000</td>\n",
       "    </tr>\n",
       "    <tr>\n",
       "      <th>11</th>\n",
       "      <td>2008</td>\n",
       "      <td>2.307500</td>\n",
       "      <td>5.770000</td>\n",
       "    </tr>\n",
       "    <tr>\n",
       "      <th>12</th>\n",
       "      <td>2009</td>\n",
       "      <td>2.723000</td>\n",
       "      <td>6.806667</td>\n",
       "    </tr>\n",
       "    <tr>\n",
       "      <th>13</th>\n",
       "      <td>2010</td>\n",
       "      <td>2.803714</td>\n",
       "      <td>7.010000</td>\n",
       "    </tr>\n",
       "    <tr>\n",
       "      <th>14</th>\n",
       "      <td>2011</td>\n",
       "      <td>3.107714</td>\n",
       "      <td>7.767143</td>\n",
       "    </tr>\n",
       "  </tbody>\n",
       "</table>\n",
       "</div>"
      ],
      "text/plain": [
       "    Year  Average Sales  Global Sales\n",
       "0   1997       2.166000      5.413333\n",
       "1   1998       1.068000      2.670000\n",
       "2   1999       1.218000      3.045000\n",
       "3   2000            NaN           NaN\n",
       "4   2001       1.770000      4.423333\n",
       "5   2002       1.662500      4.157500\n",
       "6   2003       1.615000      4.035000\n",
       "7   2004       1.998000      4.996667\n",
       "8   2005       1.253000      3.130000\n",
       "9   2006       1.578500      3.947500\n",
       "10  2007       2.876800      7.194000\n",
       "11  2008       2.307500      5.770000\n",
       "12  2009       2.723000      6.806667\n",
       "13  2010       2.803714      7.010000\n",
       "14  2011       3.107714      7.767143"
      ]
     },
     "execution_count": 30,
     "metadata": {},
     "output_type": "execute_result"
    }
   ],
   "source": [
    "#calculate average sales for action genre from 1997 to 2011\n",
    "data = {'Year': [],\n",
    "        'Average Sales': []}\n",
    "sales = pd.DataFrame(data)\n",
    "year = 1997\n",
    "for i in range(15):\n",
    "    x = shooter[shooter['Year_of_Release'] == year]\n",
    "    avg = x['Average'].mean()\n",
    "    globalsales = x['Global_Sales'].mean()\n",
    "    \n",
    "    data = {'Year': year,\n",
    "            'Average Sales': avg,\n",
    "            'Global Sales': globalsales}\n",
    "    sales = sales.append(data, ignore_index=True)\n",
    "    year += 1\n",
    "\n",
    "sales['Year'] = sales['Year'].astype(int) \n",
    "sales"
   ]
  },
  {
   "cell_type": "code",
   "execution_count": 31,
   "metadata": {},
   "outputs": [
    {
     "data": {
      "text/html": [
       "<div>\n",
       "<style scoped>\n",
       "    .dataframe tbody tr th:only-of-type {\n",
       "        vertical-align: middle;\n",
       "    }\n",
       "\n",
       "    .dataframe tbody tr th {\n",
       "        vertical-align: top;\n",
       "    }\n",
       "\n",
       "    .dataframe thead th {\n",
       "        text-align: right;\n",
       "    }\n",
       "</style>\n",
       "<table border=\"1\" class=\"dataframe\">\n",
       "  <thead>\n",
       "    <tr style=\"text-align: right;\">\n",
       "      <th></th>\n",
       "      <th>Year</th>\n",
       "      <th>Average Sales</th>\n",
       "      <th>Global Sales</th>\n",
       "    </tr>\n",
       "  </thead>\n",
       "  <tbody>\n",
       "    <tr>\n",
       "      <th>0</th>\n",
       "      <td>1997</td>\n",
       "      <td>2.166000</td>\n",
       "      <td>5.413333</td>\n",
       "    </tr>\n",
       "    <tr>\n",
       "      <th>1</th>\n",
       "      <td>1998</td>\n",
       "      <td>1.068000</td>\n",
       "      <td>2.670000</td>\n",
       "    </tr>\n",
       "    <tr>\n",
       "      <th>2</th>\n",
       "      <td>1999</td>\n",
       "      <td>1.218000</td>\n",
       "      <td>3.045000</td>\n",
       "    </tr>\n",
       "    <tr>\n",
       "      <th>3</th>\n",
       "      <td>2000</td>\n",
       "      <td>2.010552</td>\n",
       "      <td>5.026153</td>\n",
       "    </tr>\n",
       "    <tr>\n",
       "      <th>4</th>\n",
       "      <td>2001</td>\n",
       "      <td>1.770000</td>\n",
       "      <td>4.423333</td>\n",
       "    </tr>\n",
       "  </tbody>\n",
       "</table>\n",
       "</div>"
      ],
      "text/plain": [
       "   Year  Average Sales  Global Sales\n",
       "0  1997       2.166000      5.413333\n",
       "1  1998       1.068000      2.670000\n",
       "2  1999       1.218000      3.045000\n",
       "3  2000       2.010552      5.026153\n",
       "4  2001       1.770000      4.423333"
      ]
     },
     "execution_count": 31,
     "metadata": {},
     "output_type": "execute_result"
    }
   ],
   "source": [
    "#replace NaN values with average\n",
    "gblAvg = sales['Global Sales'].mean()\n",
    "Avg = sales['Average Sales'].mean()\n",
    "sales['Global Sales'] = sales['Global Sales'].replace(np.nan, gblAvg)\n",
    "sales['Average Sales'] = sales['Average Sales'].replace(np.nan, Avg)\n",
    "sales.head()"
   ]
  },
  {
   "cell_type": "code",
   "execution_count": 32,
   "metadata": {},
   "outputs": [
    {
     "data": {
      "image/png": "[encoded data removed]",
      "text/plain": [
       "<Figure size 432x288 with 1 Axes>"
      ]
     },
     "metadata": {
      "needs_background": "light"
     },
     "output_type": "display_data"
    }
   ],
   "source": [
    "#sales plot\n",
    "plt.plot(sales['Year'], sales['Average Sales'], sales['Year'], sales['Global Sales'])\n",
    "plt.title('Shooter')\n",
    "plt.xlabel('Year')\n",
    "plt.ylabel('Sales(in Millions)')\n",
    "plt.show()"
   ]
  },
  {
   "cell_type": "code",
   "execution_count": 2,
   "metadata": {},
   "outputs": [],
   "source": [
    "#for SVR algorithm\n",
    "from sklearn.svm import SVR\n",
    "from sklearn.model_selection import train_test_split\n",
    "\n",
    "y = shooter['Average'] #output\n",
    "ygl = shooter['Global_Sales']\n",
    "X = np.array(shooter['Year_of_Release']).reshape(-1,1) #input\n",
    "\n",
    "X_train, X_test, y_train, y_test = train_test_split(X, y, test_size=0.2)\n",
    "Xgl_train, Xgl_test, ygl_train, ygl_test = train_test_split(X, y, test_size=0.2)"
   ]
  },
  {
   "cell_type": "code",
   "execution_count": 5,
   "metadata": {},
   "outputs": [
    {
     "data": {
      "image/png": "[encoded data removed]",
      "text/plain": [
       "<Figure size 432x288 with 1 Axes>"
      ]
     },
     "metadata": {
      "needs_background": "light"
     },
     "output_type": "display_data"
    }
   ],
   "source": [
    "model = SVR(kernel='rbf', epsilon=0.20, gamma='scale')\n",
    "modelgl = SVR(kernel='rbf')\n",
    "\n",
    "model.fit(X_train, y_train)\n",
    "modelgl.fit(Xgl_train, ygl_train)\n",
    "prediction = model.predict(X_test)\n",
    "predictiongl = modelgl.predict(Xgl_test)\n",
    "# model.score(X_test, y_test)\n",
    "\n",
    "# prediction\n",
    "\n",
    "X_grid = np.arange(min(X_train), max(X_train), 0.01)\n",
    "X_grid = X_grid.reshape((len(X_grid), 1))\n",
    "\n",
    "# plt.scatter(X_test, prediction)\n",
    "plt.ylim(top=3)\n",
    "plt.title('Model Fit')\n",
    "plt.xlabel('Years')\n",
    "plt.ylabel('Sales')\n",
    "plt.scatter(X_train, y_train, color='red')\n",
    "plt.plot(X_grid, model.predict(X_grid), color='green')\n",
    "plt.scatter(X_test, prediction, color='blue')\n",
    "plt.show()  #why you do dis???"
   ]
  },
  {
   "cell_type": "code",
   "execution_count": 7,
   "metadata": {},
   "outputs": [
    {
     "name": "stdout",
     "output_type": "stream",
     "text": [
      "1.4489547423591005\n"
     ]
    }
   ],
   "source": [
    "#mean squared error (manual)\n",
    "tot = 0\n",
    "for x in range(20):\n",
    "    y = (np.array(y_test)[x]-prediction[x])**2\n",
    "    tot = tot + y\n",
    "print(tot/20)"
   ]
  },
  {
   "cell_type": "code",
   "execution_count": 6,
   "metadata": {},
   "outputs": [
    {
     "data": {
      "image/png": "[encoded data removed]",
      "text/plain": [
       "<Figure size 432x288 with 1 Axes>"
      ]
     },
     "metadata": {
      "needs_background": "light"
     },
     "output_type": "display_data"
    }
   ],
   "source": [
    "#make predictions\n",
    "year = [2016, 2017, 2018, 2019, 2020, 2021, 2022, 2023, 2024, 2025, 2026, 2027, 2028, 2029, 2030]\n",
    "data = {'Prediction_Year': [],\n",
    "        'Predicted_Sales': [],\n",
    "        'Global': []}\n",
    "future_sales = pd.DataFrame(data)\n",
    "future_sales['Prediction_Year'] = future_sales['Prediction_Year'].astype(int)\n",
    "\n",
    "for i in range(15):\n",
    "    x = model.predict([[year[i]]])\n",
    "    xgl = modelgl.predict([[year[i]]])\n",
    "    data = {'Prediction_Year': year[i],\n",
    "            'Predicted_Sales': x,\n",
    "            'Global': xgl}\n",
    "    future_sales = future_sales.append(data, ignore_index=True)\n",
    "\n",
    "plt.plot(future_sales['Prediction_Year'], future_sales['Predicted_Sales'])\n",
    "plt.plot(future_sales['Prediction_Year'], future_sales['Global'], ls = '--')\n",
    "plt.xlabel('Year')\n",
    "plt.ylabel('Sales(in Millions)')\n",
    "plt.show()\n"
   ]
  },
  {
   "cell_type": "code",
   "execution_count": 7,
   "metadata": {},
   "outputs": [
    {
     "data": {
      "text/plain": [
       "['savedModels/shooter.joblib']"
      ]
     },
     "execution_count": 7,
     "metadata": {},
     "output_type": "execute_result"
    }
   ],
   "source": [
    "import joblib\n",
    "\n",
    "filename = 'savedModels/shooter.joblib'\n",
    "joblib.dump(model, filename)"
   ]
  },
  {
   "cell_type": "code",
   "execution_count": 9,
   "metadata": {},
   "outputs": [
    {
     "name": "stdout",
     "output_type": "stream",
     "text": [
      "1.4489547423591007\n",
      "0.5574351023532405\n"
     ]
    }
   ],
   "source": [
    "from sklearn.metrics import mean_squared_error\n",
    "from math import sqrt\n",
    "import statistics\n",
    "\n",
    "print(mean_squared_error(y_test, prediction))\n",
    "test_rmse = sqrt(mean_squared_error(y_test, prediction))\n",
    "print(test_rmse/statistics.mean(y_test))"
   ]
  },
  {
   "cell_type": "code",
   "execution_count": 10,
   "metadata": {},
   "outputs": [
    {
     "name": "stdout",
     "output_type": "stream",
     "text": [
      "1.2037253600215876\n"
     ]
    }
   ],
   "source": [
    "print(test_rmse)"
   ]
  },
  {
   "cell_type": "code",
   "execution_count": 11,
   "metadata": {},
   "outputs": [
    {
     "data": {
      "image/png": "[encoded data removed]",
      "text/plain": [
       "<Figure size 432x288 with 1 Axes>"
      ]
     },
     "metadata": {
      "needs_background": "light"
     },
     "output_type": "display_data"
    },
    {
     "data": {
      "text/plain": [
       "array([2.37691814])"
      ]
     },
     "execution_count": 11,
     "metadata": {},
     "output_type": "execute_result"
    }
   ],
   "source": [
    "#for XGBoost algorithm\n",
    "# from xgboost import XGBClassifier\n",
    "from sklearn.linear_model import LinearRegression\n",
    "\n",
    "# xgb_classifier = XGBClassifier()\n",
    "# xgb_classifier.fit(X_train, y_train)\n",
    "# prediction_xgb = xgb_classifier.predict(X_test)\n",
    "\n",
    "line = LinearRegression()\n",
    "linegbl = LinearRegression()\n",
    "line.fit(X_train, y_train)\n",
    "linegbl.fit(Xgl_train, ygl_train)\n",
    "prediction_lin = line.predict(X_test)\n",
    "\n",
    "\n",
    "plt.scatter(X_train, y_train, color='red')\n",
    "plt.scatter(X_test, prediction_lin, color='blue')\n",
    "plt.show()\n",
    "line.predict([[2005]])"
   ]
  },
  {
   "cell_type": "code",
   "execution_count": 12,
   "metadata": {
    "scrolled": false
   },
   "outputs": [
    {
     "name": "stdout",
     "output_type": "stream",
     "text": [
      "1.2550471601120323\n"
     ]
    }
   ],
   "source": [
    "rmse_lin = mean_squared_error(y_test, prediction_lin)\n",
    "print(rmse_lin)"
   ]
  },
  {
   "cell_type": "code",
   "execution_count": 13,
   "metadata": {},
   "outputs": [
    {
     "data": {
      "image/png": "[encoded data removed]",
      "text/plain": [
       "<Figure size 432x288 with 1 Axes>"
      ]
     },
     "metadata": {
      "needs_background": "light"
     },
     "output_type": "display_data"
    },
    {
     "data": {
      "text/html": [
       "<div>\n",
       "<style scoped>\n",
       "    .dataframe tbody tr th:only-of-type {\n",
       "        vertical-align: middle;\n",
       "    }\n",
       "\n",
       "    .dataframe tbody tr th {\n",
       "        vertical-align: top;\n",
       "    }\n",
       "\n",
       "    .dataframe thead th {\n",
       "        text-align: right;\n",
       "    }\n",
       "</style>\n",
       "<table border=\"1\" class=\"dataframe\">\n",
       "  <thead>\n",
       "    <tr style=\"text-align: right;\">\n",
       "      <th></th>\n",
       "      <th>Prediction_Year</th>\n",
       "      <th>Predicted_Sales</th>\n",
       "      <th>Global Sales</th>\n",
       "    </tr>\n",
       "  </thead>\n",
       "  <tbody>\n",
       "    <tr>\n",
       "      <th>0</th>\n",
       "      <td>2016</td>\n",
       "      <td>[2.2301907566340553]</td>\n",
       "      <td>[2.200684910748116]</td>\n",
       "    </tr>\n",
       "    <tr>\n",
       "      <th>1</th>\n",
       "      <td>2017</td>\n",
       "      <td>[2.2168519037354244]</td>\n",
       "      <td>[2.183418570186973]</td>\n",
       "    </tr>\n",
       "    <tr>\n",
       "      <th>2</th>\n",
       "      <td>2018</td>\n",
       "      <td>[2.203513050836797]</td>\n",
       "      <td>[2.166152229625837]</td>\n",
       "    </tr>\n",
       "    <tr>\n",
       "      <th>3</th>\n",
       "      <td>2019</td>\n",
       "      <td>[2.190174197938166]</td>\n",
       "      <td>[2.148885889064694]</td>\n",
       "    </tr>\n",
       "    <tr>\n",
       "      <th>4</th>\n",
       "      <td>2020</td>\n",
       "      <td>[2.176835345039539]</td>\n",
       "      <td>[2.131619548503558]</td>\n",
       "    </tr>\n",
       "    <tr>\n",
       "      <th>5</th>\n",
       "      <td>2021</td>\n",
       "      <td>[2.163496492140908]</td>\n",
       "      <td>[2.1143532079424148]</td>\n",
       "    </tr>\n",
       "    <tr>\n",
       "      <th>6</th>\n",
       "      <td>2022</td>\n",
       "      <td>[2.150157639242277]</td>\n",
       "      <td>[2.097086867381279]</td>\n",
       "    </tr>\n",
       "    <tr>\n",
       "      <th>7</th>\n",
       "      <td>2023</td>\n",
       "      <td>[2.1368187863436496]</td>\n",
       "      <td>[2.0798205268201357]</td>\n",
       "    </tr>\n",
       "    <tr>\n",
       "      <th>8</th>\n",
       "      <td>2024</td>\n",
       "      <td>[2.1234799334450187]</td>\n",
       "      <td>[2.0625541862589998]</td>\n",
       "    </tr>\n",
       "    <tr>\n",
       "      <th>9</th>\n",
       "      <td>2025</td>\n",
       "      <td>[2.1101410805463914]</td>\n",
       "      <td>[2.0452878456978567]</td>\n",
       "    </tr>\n",
       "    <tr>\n",
       "      <th>10</th>\n",
       "      <td>2026</td>\n",
       "      <td>[2.0968022276477605]</td>\n",
       "      <td>[2.0280215051367207]</td>\n",
       "    </tr>\n",
       "    <tr>\n",
       "      <th>11</th>\n",
       "      <td>2027</td>\n",
       "      <td>[2.0834633747491296]</td>\n",
       "      <td>[2.010755164575585]</td>\n",
       "    </tr>\n",
       "    <tr>\n",
       "      <th>12</th>\n",
       "      <td>2028</td>\n",
       "      <td>[2.070124521850502]</td>\n",
       "      <td>[1.9934888240144417]</td>\n",
       "    </tr>\n",
       "    <tr>\n",
       "      <th>13</th>\n",
       "      <td>2029</td>\n",
       "      <td>[2.0567856689518713]</td>\n",
       "      <td>[1.9762224834533058]</td>\n",
       "    </tr>\n",
       "    <tr>\n",
       "      <th>14</th>\n",
       "      <td>2030</td>\n",
       "      <td>[2.043446816053244]</td>\n",
       "      <td>[1.9589561428921627]</td>\n",
       "    </tr>\n",
       "  </tbody>\n",
       "</table>\n",
       "</div>"
      ],
      "text/plain": [
       "    Prediction_Year       Predicted_Sales          Global Sales\n",
       "0              2016  [2.2301907566340553]   [2.200684910748116]\n",
       "1              2017  [2.2168519037354244]   [2.183418570186973]\n",
       "2              2018   [2.203513050836797]   [2.166152229625837]\n",
       "3              2019   [2.190174197938166]   [2.148885889064694]\n",
       "4              2020   [2.176835345039539]   [2.131619548503558]\n",
       "5              2021   [2.163496492140908]  [2.1143532079424148]\n",
       "6              2022   [2.150157639242277]   [2.097086867381279]\n",
       "7              2023  [2.1368187863436496]  [2.0798205268201357]\n",
       "8              2024  [2.1234799334450187]  [2.0625541862589998]\n",
       "9              2025  [2.1101410805463914]  [2.0452878456978567]\n",
       "10             2026  [2.0968022276477605]  [2.0280215051367207]\n",
       "11             2027  [2.0834633747491296]   [2.010755164575585]\n",
       "12             2028   [2.070124521850502]  [1.9934888240144417]\n",
       "13             2029  [2.0567856689518713]  [1.9762224834533058]\n",
       "14             2030   [2.043446816053244]  [1.9589561428921627]"
      ]
     },
     "execution_count": 13,
     "metadata": {},
     "output_type": "execute_result"
    }
   ],
   "source": [
    "year = [2016, 2017, 2018, 2019, 2020, 2021, 2022, 2023, 2024, 2025, 2026, 2027, 2028, 2029, 2030]\n",
    "data = {'Prediction_Year': [],\n",
    "        'Predicted_Sales': [],\n",
    "        'Global Sales': []}\n",
    "future_sales_lin = pd.DataFrame(data)\n",
    "future_sales_lin['Prediction_Year'] = future_sales_lin['Prediction_Year'].astype(int)\n",
    "\n",
    "for i in range(15):\n",
    "    lin = line.predict([[year[i]]])\n",
    "    lingbl = linegbl.predict([[year[i]]])\n",
    "    data = {'Prediction_Year': year[i],\n",
    "            'Predicted_Sales': lin,\n",
    "            'Global Sales': lingbl}\n",
    "    future_sales_lin = future_sales_lin.append(data, ignore_index=True)\n",
    "\n",
    "plt.plot(future_sales_lin['Prediction_Year'], future_sales_lin['Predicted_Sales'], future_sales_lin['Prediction_Year'], future_sales_lin['Global Sales'])\n",
    "plt.xlabel('Year')\n",
    "plt.ylabel('Sales(in Millions)')\n",
    "plt.show()\n",
    "future_sales_lin"
   ]
  },
  {
   "cell_type": "code",
   "execution_count": 14,
   "metadata": {},
   "outputs": [
    {
     "name": "stdout",
     "output_type": "stream",
     "text": [
      "[1.6062753]\n",
      "[1.51003129]\n"
     ]
    }
   ],
   "source": [
    "print(modelgl.predict([[2031]]))\n",
    "print(linegbl.predict([[2056]]))"
   ]
  },
  {
   "cell_type": "code",
   "execution_count": 23,
   "metadata": {},
   "outputs": [
    {
     "data": {
      "image/png": "[encoded data removed]",
      "text/plain": [
       "<Figure size 432x288 with 1 Axes>"
      ]
     },
     "metadata": {},
     "output_type": "display_data"
    }
   ],
   "source": [
    "from mlxtend.plotting import plot_learning_curves\n",
    "\n",
    "#change C and epsilon values\n",
    "#over, under and best fit\n",
    "\n",
    "clf = SVR(kernel='rbf')\n",
    "# clf2 = LinearRegression()\n",
    "\n",
    "plot_learning_curves(X_train, y_train, X_test, y_test, clf, scoring='mean_squared_error', print_model=False)\n",
    "plt.show()"
   ]
  }
 ],
 "metadata": {
  "kernelspec": {
   "display_name": "Python 3",
   "language": "python",
   "name": "python3"
  },
  "language_info": {
   "codemirror_mode": {
    "name": "ipython",
    "version": 3
   },
   "file_extension": ".py",
   "mimetype": "text/x-python",
   "name": "python",
   "nbconvert_exporter": "python",
   "pygments_lexer": "ipython3",
   "version": "3.8.0"
  }
 },
 "nbformat": 4,
 "nbformat_minor": 2
}
