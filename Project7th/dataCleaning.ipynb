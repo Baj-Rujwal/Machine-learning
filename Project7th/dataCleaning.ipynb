{
 "cells": [
  {
   "cell_type": "code",
   "execution_count": 16,
   "metadata": {},
   "outputs": [
    {
     "data": {
      "text/html": [
       "<div>\n",
       "<style scoped>\n",
       "    .dataframe tbody tr th:only-of-type {\n",
       "        vertical-align: middle;\n",
       "    }\n",
       "\n",
       "    .dataframe tbody tr th {\n",
       "        vertical-align: top;\n",
       "    }\n",
       "\n",
       "    .dataframe thead th {\n",
       "        text-align: right;\n",
       "    }\n",
       "</style>\n",
       "<table border=\"1\" class=\"dataframe\">\n",
       "  <thead>\n",
       "    <tr style=\"text-align: right;\">\n",
       "      <th></th>\n",
       "      <th>Platform</th>\n",
       "      <th>Year_of_Release</th>\n",
       "      <th>Genre</th>\n",
       "      <th>NA_Sales</th>\n",
       "      <th>EU_Sales</th>\n",
       "      <th>JP_Sales</th>\n",
       "      <th>Other_Sales</th>\n",
       "      <th>Global_Sales</th>\n",
       "    </tr>\n",
       "  </thead>\n",
       "  <tbody>\n",
       "    <tr>\n",
       "      <td>0</td>\n",
       "      <td>Wii</td>\n",
       "      <td>2006.0</td>\n",
       "      <td>Sports</td>\n",
       "      <td>41.36</td>\n",
       "      <td>28.96</td>\n",
       "      <td>3.77</td>\n",
       "      <td>8.45</td>\n",
       "      <td>82.54</td>\n",
       "    </tr>\n",
       "    <tr>\n",
       "      <td>1</td>\n",
       "      <td>NES</td>\n",
       "      <td>1985.0</td>\n",
       "      <td>Platform</td>\n",
       "      <td>29.08</td>\n",
       "      <td>3.58</td>\n",
       "      <td>6.81</td>\n",
       "      <td>0.77</td>\n",
       "      <td>40.24</td>\n",
       "    </tr>\n",
       "    <tr>\n",
       "      <td>2</td>\n",
       "      <td>Wii</td>\n",
       "      <td>2008.0</td>\n",
       "      <td>Racing</td>\n",
       "      <td>15.68</td>\n",
       "      <td>12.80</td>\n",
       "      <td>3.79</td>\n",
       "      <td>3.29</td>\n",
       "      <td>35.57</td>\n",
       "    </tr>\n",
       "    <tr>\n",
       "      <td>3</td>\n",
       "      <td>Wii</td>\n",
       "      <td>2009.0</td>\n",
       "      <td>Sports</td>\n",
       "      <td>15.61</td>\n",
       "      <td>10.95</td>\n",
       "      <td>3.28</td>\n",
       "      <td>2.95</td>\n",
       "      <td>32.78</td>\n",
       "    </tr>\n",
       "    <tr>\n",
       "      <td>4</td>\n",
       "      <td>G</td>\n",
       "      <td>1996.0</td>\n",
       "      <td>Role-Playing</td>\n",
       "      <td>11.27</td>\n",
       "      <td>8.89</td>\n",
       "      <td>10.22</td>\n",
       "      <td>1.00</td>\n",
       "      <td>31.37</td>\n",
       "    </tr>\n",
       "  </tbody>\n",
       "</table>\n",
       "</div>"
      ],
      "text/plain": [
       "  Platform  Year_of_Release         Genre  NA_Sales  EU_Sales  JP_Sales  \\\n",
       "0      Wii           2006.0        Sports     41.36     28.96      3.77   \n",
       "1      NES           1985.0      Platform     29.08      3.58      6.81   \n",
       "2      Wii           2008.0        Racing     15.68     12.80      3.79   \n",
       "3      Wii           2009.0        Sports     15.61     10.95      3.28   \n",
       "4        G           1996.0  Role-Playing     11.27      8.89     10.22   \n",
       "\n",
       "   Other_Sales  Global_Sales  \n",
       "0         8.45         82.54  \n",
       "1         0.77         40.24  \n",
       "2         3.29         35.57  \n",
       "3         2.95         32.78  \n",
       "4         1.00         31.37  "
      ]
     },
     "execution_count": 16,
     "metadata": {},
     "output_type": "execute_result"
    }
   ],
   "source": [
    "import numpy as np\n",
    "import pandas as pd\n",
    "\n",
    "dataSet=pd.read_csv(\"Data/Video_Game_Sales_as_of_Jan_2017.csv\")\n",
    "\n",
    "# dropping irrelevant columns\n",
    "drop_cols=['Name','Publisher','Critic_Score','Critic_Count','User_Score','User_Count','Rating']\n",
    "dataSet=dataSet.drop(drop_cols,axis=1)\n",
    "dataSet.head()"
   ]
  },
  {
   "cell_type": "code",
   "execution_count": 4,
   "metadata": {},
   "outputs": [],
   "source": [
    "#handling missing values\n",
    "dataSet.isnull().sum()#checking null values for the columns\n",
    "dataSet=dataSet.dropna()\n",
    "dataSet['Year_of_Release']=dataSet['Year_of_Release'].astype(int)"
   ]
  },
  {
   "cell_type": "code",
   "execution_count": 5,
   "metadata": {},
   "outputs": [
    {
     "name": "stdout",
     "output_type": "stream",
     "text": [
      "Different data types\n",
      "float64    5\n",
      "object     2\n",
      "int32      1\n",
      "dtype: int64\n"
     ]
    }
   ],
   "source": [
    "#managing categorical data\n",
    "print(\"Different data types\\n{}\".format(dataSet.dtypes.value_counts()))"
   ]
  },
  {
   "cell_type": "code",
   "execution_count": 6,
   "metadata": {},
   "outputs": [
    {
     "name": "stdout",
     "output_type": "stream",
     "text": [
      "Platform       Wii\n",
      "Genre       Sports\n",
      "Name: 0, dtype: object\n"
     ]
    }
   ],
   "source": [
    "object_type=dataSet.select_dtypes(include=['object'])\n",
    "print(object_type.iloc[0])"
   ]
  },
  {
   "cell_type": "code",
   "execution_count": 7,
   "metadata": {},
   "outputs": [
    {
     "name": "stdout",
     "output_type": "stream",
     "text": [
      "Platform :\n",
      "DS      2249\n",
      "PS2     2206\n",
      "PS3     1362\n",
      "Wii     1357\n",
      "PSP     1302\n",
      "X360    1297\n",
      "PS      1200\n",
      "PC      1128\n",
      "GBA      844\n",
      "X        833\n",
      "GC       563\n",
      "3DS      553\n",
      "PSV      502\n",
      "PS4      424\n",
      "N64      319\n",
      "XOne     264\n",
      "SNES     239\n",
      "SAT      173\n",
      "WiiU     153\n",
      "2600     133\n",
      "G         98\n",
      "NES       98\n",
      "DC        52\n",
      "GEN       27\n",
      "NG        12\n",
      "WS         7\n",
      "SCD        6\n",
      "3DO        3\n",
      "TG16       2\n",
      "GG         1\n",
      "PCFX       1\n",
      "Name: Platform, dtype: int64 \n",
      "\n",
      "Genre :\n",
      "Action          3500\n",
      "Sports          2407\n",
      "Misc            1812\n",
      "Role-Playing    1545\n",
      "Adventure       1478\n",
      "Shooter         1348\n",
      "Racing          1281\n",
      "Simulation       924\n",
      "Platform         900\n",
      "Fighting         864\n",
      "Strategy         734\n",
      "Puzzle           615\n",
      "Name: Genre, dtype: int64 \n",
      "\n"
     ]
    }
   ],
   "source": [
    "cols = ['Platform', 'Genre']\n",
    "for name in cols:\n",
    "    print(name,':')\n",
    "    print(object_type[name].value_counts(),'\\n')"
   ]
  },
  {
   "cell_type": "code",
   "execution_count": 8,
   "metadata": {},
   "outputs": [],
   "source": [
    "#trying to remove rows below a certain count\n",
    "platforms=['GG','PCFX','NG','WS','SCD','3DO','TG16']\n",
    "for x in platforms:\n",
    "    index_platform=dataSet[(dataSet['Platform']==x)].index\n",
    "    dataSet.drop(index_platform,inplace=True)"
   ]
  },
  {
   "cell_type": "code",
   "execution_count": 9,
   "metadata": {
    "scrolled": true
   },
   "outputs": [],
   "source": [
    "#calculate average\n",
    "avg_cal=dataSet[['NA_Sales','EU_Sales','JP_Sales','Other_Sales','Global_Sales']]\n",
    "dataSet['Average']=avg_cal.mean(axis=1)"
   ]
  },
  {
   "cell_type": "code",
   "execution_count": 10,
   "metadata": {},
   "outputs": [],
   "source": [
    "#converting Genre to numeric values\n",
    "mapping_dict={\"Genre\":{\n",
    "    \"Action\":0,\n",
    "    \"Sports\":1,\n",
    "    \"Misc\":2,\n",
    "    \"Role-Playing\":3,\n",
    "    \"Adventure\":4,\n",
    "    \"Shooter\":5,\n",
    "    \"Racing\":6,\n",
    "    \"Simulation\":7,\n",
    "    \"Platform\":8,\n",
    "    \"Fighting\":9,\n",
    "    \"Strategy\":10,\n",
    "    \"Puzzle\":11\n",
    "}}\n",
    "dataSet=dataSet.replace(mapping_dict)\n",
    "\n",
    "# adding dummy value then dropping the original column\n",
    "dummy_df=pd.get_dummies(dataSet['Platform'])\n",
    "dataSet=pd.concat([dataSet, dummy_df], axis=1)\n",
    "dataSet=dataSet.drop('Platform', axis=1)"
   ]
  },
  {
   "cell_type": "code",
   "execution_count": 11,
   "metadata": {},
   "outputs": [],
   "source": [
    "#remove rows with low sales only average\n",
    "\n",
    "index = dataSet[(dataSet['Average'])<1].index\n",
    "dataSet.drop(index, inplace=True)"
   ]
  },
  {
   "cell_type": "code",
   "execution_count": 13,
   "metadata": {},
   "outputs": [],
   "source": [
    "#Get separate csv dataset for each genre\n",
    "Genres = ['Action', 'Sports', 'Misc', 'Role-Playing', 'Adventure', 'Shooter', 'Racing', 'Simulation', 'Platform', 'Fighting', 'Strategy', 'Puzzle']\n",
    "for x in range(12):\n",
    "    name = \"Data/CleanedData\"+Genres[x]+\".csv\"\n",
    "    Data = dataSet[(dataSet['Genre']==x)]\n",
    "    Data.to_csv(name, index=False)"
   ]
  },
  {
   "cell_type": "code",
   "execution_count": 17,
   "metadata": {},
   "outputs": [
    {
     "data": {
      "text/plain": [
       "0"
      ]
     },
     "execution_count": 17,
     "metadata": {},
     "output_type": "execute_result"
    }
   ],
   "source": [
    "dataSet.to_csv(\"Data/cleanedData.csv\",index=False)\n",
    "len(dataSet[(dataSet['Genre']==10)])"
   ]
  }
 ],
 "metadata": {
  "kernelspec": {
   "display_name": "Python 3",
   "language": "python",
   "name": "python3"
  },
  "language_info": {
   "codemirror_mode": {
    "name": "ipython",
    "version": 3
   },
   "file_extension": ".py",
   "mimetype": "text/x-python",
   "name": "python",
   "nbconvert_exporter": "python",
   "pygments_lexer": "ipython3",
   "version": "3.8.0"
  }
 },
 "nbformat": 4,
 "nbformat_minor": 2
}
